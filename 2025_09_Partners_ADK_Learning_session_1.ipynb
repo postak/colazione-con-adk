{
  "cells": [
    {
      "cell_type": "markdown",
      "metadata": {
        "id": "view-in-github",
        "colab_type": "text"
      },
      "source": [
        "<a href=\"https://colab.research.google.com/github/postak/colazione-con-adk/blob/main/2025_09_Partners_ADK_Learning_session_1.ipynb\" target=\"_parent\"><img src=\"https://colab.research.google.com/assets/colab-badge.svg\" alt=\"Open In Colab\"/></a>"
      ]
    },
    {
      "cell_type": "markdown",
      "source": [
        "```\n",
        "Copyright 2025 Google LLC.\n",
        "SPDX-License-Identifier: Apache-2.0\n",
        "```"
      ],
      "metadata": {
        "id": "fjuVk3hVFNx1"
      },
      "id": "fjuVk3hVFNx1"
    },
    {
      "cell_type": "code",
      "source": [
        "#@title First Session\n",
        "# Licensed under the Apache License, Version 2.0 (the \"License\");\n",
        "# you may not use this file except in compliance with the License.\n",
        "# You may obtain a copy of the License at\n",
        "#\n",
        "# https://www.apache.org/licenses/LICENSE-2.0\n",
        "#\n",
        "# Unless required by applicable law or agreed to in writing, software\n",
        "# distributed under the License is distributed on an \"AS IS\" BASIS,\n",
        "# WITHOUT WARRANTIES OR CONDITIONS OF ANY KIND, either express or implied.\n",
        "# See the License for the specific language governing permissions and\n",
        "# limitations under the License."
      ],
      "metadata": {
        "id": "nrbhXAxQGINg"
      },
      "id": "nrbhXAxQGINg",
      "execution_count": null,
      "outputs": []
    },
    {
      "cell_type": "markdown",
      "metadata": {
        "id": "oRXAzkz1iuRI"
      },
      "source": [
        "# 🚀 Welcome to the First Session of our Journey! 🚀\n",
        "\n",
        "Welcome! In this notebook, we're going on a journey to build and command our own fleet of AI agents using the Google Agent Development Kit (ADK).\n",
        "\n",
        "We'll cover three awesome levels of agent creation:\n",
        "1.  **Your First Agent:** Learn the absolute basics of creating and running a single, powerful agent.\n",
        "2.  **Agent with/without a Memory :** See how agents can remember your conversation within a 'session' to handle multi-step tasks.\n",
        "3.  **Using ADK Tool in a shell environment:** See how the agent looks like in tool environment.\n",
        "\n",
        "-------------\n",
        "### ⚠️ Important Prerequisite: Setup Your Environment! ⚠️\n",
        "-----------------------------------------------------------------------------\n",
        " Before you run this file, please make sure you have completed the initial\n",
        "setup steps for Setting Up Your GCP Project & Gemini API Key.\n",
        "👉 Follow the instructions [here](https://github.com/postak/colazione-con-adk/blob/main/Setting%20Up%20Your%20GCP%20Project%20%26%20Gemini%20API%20Key.pdf)\n",
        "\n",
        "Once you've done that, you'll be all set to run this demo!\n",
        " -----------------------------------------------------------------------------\n",
        "\n",
        "\n",
        "Let's get this adventure started!"
      ],
      "id": "oRXAzkz1iuRI"
    },
    {
      "cell_type": "markdown",
      "metadata": {
        "id": "4LvyeireiuRK"
      },
      "source": [
        "## Part 0: Setup & Authentication 🔑\n",
        "\n",
        "First things first, let's get all our tools ready. This step installs the necessary libraries and securely configures your Google API key so your agents can access the power of Gemini."
      ],
      "id": "4LvyeireiuRK"
    },
    {
      "cell_type": "code",
      "execution_count": null,
      "metadata": {
        "id": "1wkXA9koiuRK"
      },
      "outputs": [],
      "source": [
        "!pip install google-adk google-generativeai -q\n",
        "\n",
        "# --- Import all necessary libraries for our entire adventure ---\n",
        "import os\n",
        "import re\n",
        "import asyncio\n",
        "from IPython.display import display, Markdown\n",
        "import google.generativeai as genai\n",
        "from google.adk.agents import Agent\n",
        "from google.adk.tools import google_search\n",
        "from google.adk.runners import Runner\n",
        "from google.adk.sessions import InMemorySessionService, Session\n",
        "from google.genai.types import Content, Part\n",
        "from getpass import getpass\n",
        "\n",
        "print(\"✅ All libraries are ready to go!\")"
      ],
      "id": "1wkXA9koiuRK"
    },
    {
      "cell_type": "code",
      "execution_count": null,
      "metadata": {
        "id": "08Xq5kqfiuRK"
      },
      "outputs": [],
      "source": [
        "\n",
        "# --- Securely Configure Your API Key ---\n",
        "\n",
        "# Prompt the user for their API key securely\n",
        "api_key = getpass('Enter your Google API Key: ')\n",
        "\n",
        "# Configure the generative AI library with the provided key\n",
        "genai.configure(api_key=api_key)\n",
        "\n",
        "# Set the API key as an environment variable for ADK to use\n",
        "os.environ['GOOGLE_API_KEY'] = api_key\n",
        "\n",
        "print(\"✅ API Key configured successfully! Let the fun begin.\")"
      ],
      "id": "08Xq5kqfiuRK"
    },
    {
      "cell_type": "markdown",
      "metadata": {
        "id": "uE5IqZPniuRL"
      },
      "source": [
        "---\n",
        "## Lab 1: Your First Agent - Ask for the capital of a country 🧞\n",
        "\n",
        "Meet your first creation! The `create_capital_agent` is a simple but powerful assistant. We're making it a little smarter by teaching it to understand **budget constraints**.\n",
        "\n",
        "* **Agent**: The brain of the operation, defined by its instructions, tools, and the AI model it uses.\n",
        "* **Session**: The conversation history. For this simple agent, it's just a container for a single request-response.\n",
        "* **Runner**: The engine that connects the `Agent` and the `Session` to process your request and get a response."
      ],
      "id": "uE5IqZPniuRL"
    },
    {
      "cell_type": "markdown",
      "source": [
        "### 1) Define an LLM agent function\n"
      ],
      "metadata": {
        "id": "BNdXZw5nnj7N"
      },
      "id": "BNdXZw5nnj7N"
    },
    {
      "cell_type": "code",
      "source": [
        "def create_capital_agent():\n",
        "    \"\"\"Create the Capital agent\"\"\"\n",
        "    return Agent(\n",
        "        name=\"capital_agent\",\n",
        "        model=\"gemini-2.0-flash\",\n",
        "        description=\"Answers user questions about the capital city of a given country.\",\n",
        "        instruction=\"\"\"\n",
        "        You are an agent that provides the capital city of a country.\n",
        "        \"\"\"\n",
        "      )\n",
        "\n",
        "capital_agent = create_capital_agent()\n",
        "print(f\"🧞 Agent '{capital_agent.name}' is created and ready for adventure!\")"
      ],
      "metadata": {
        "id": "W2rIWeozmx5y"
      },
      "id": "W2rIWeozmx5y",
      "execution_count": null,
      "outputs": []
    },
    {
      "cell_type": "markdown",
      "source": [
        "### 2) Define an helper function to run the agent (when not using adk tool)**"
      ],
      "metadata": {
        "id": "BoIMw_oenrst"
      },
      "id": "BoIMw_oenrst"
    },
    {
      "cell_type": "code",
      "source": [
        "# --- A Helper Function to Run Our Agents ---\n",
        "# We'll use this function throughout the notebook to make running queries easy.\n",
        "\n",
        "async def run_agent_query(agent: Agent, query: str, session: Session, user_id: str, is_router: bool = False):\n",
        "    \"\"\"Initializes a runner and executes a query for a given agent and session.\"\"\"\n",
        "    print(f\"\\n🚀 Running query for agent: '{agent.name}' in session: '{session.id}'...\")\n",
        "\n",
        "    runner = Runner(\n",
        "        agent=agent,\n",
        "        session_service=session_service,\n",
        "        app_name=agent.name\n",
        "    )\n",
        "\n",
        "    final_response = \"\"\n",
        "    try:\n",
        "        async for event in runner.run_async(\n",
        "            user_id=user_id,\n",
        "            session_id=session.id,\n",
        "            new_message=Content(parts=[Part(text=query)], role=\"user\")\n",
        "        ):\n",
        "            if not is_router:\n",
        "                # Let's see what the agent is thinking!\n",
        "                print(f\"EVENT: {str(event)[:300]} \\n...\\n...\\n<output truncated>\\n\\n\")\n",
        "            if event.is_final_response():\n",
        "                final_response = event.content.parts[0].text\n",
        "    except Exception as e:\n",
        "        final_response = f\"An error occurred: {e}\"\n",
        "\n",
        "    if not is_router:\n",
        "     print(\"\\n\" + \"-\"*50)\n",
        "     print(\"✅ Final Response:\")\n",
        "     display(Markdown(final_response))\n",
        "     print(\"-\"*50 + \"\\n\")\n",
        "\n",
        "    return final_response\n",
        "\n",
        "# --- Initialize our Session Service ---\n",
        "# This one service will manage all the different sessions in our notebook.\n",
        "session_service = InMemorySessionService()\n",
        "my_user_id = \"adk_adventurer_001\""
      ],
      "metadata": {
        "id": "adU6-f8Ensml"
      },
      "id": "adU6-f8Ensml",
      "execution_count": null,
      "outputs": []
    },
    {
      "cell_type": "markdown",
      "source": [
        "### 3) Test the agent"
      ],
      "metadata": {
        "id": "Fz3mMpojn73W"
      },
      "id": "Fz3mMpojn73W"
    },
    {
      "cell_type": "code",
      "source": [
        "async def ask_for_nation_capital():\n",
        "    # Create a new, single-use session for this query\n",
        "    capital_session = await session_service.create_session(\n",
        "        app_name=capital_agent.name,\n",
        "        user_id=my_user_id\n",
        "    )\n",
        "\n",
        "    # Note the new budget constraint in the query!\n",
        "    query = \"Which is the capital of Italy?\"\n",
        "    print(f\"🗣️ User Query: '{query}'\")\n",
        "\n",
        "    await run_agent_query(capital_agent, query, capital_session, my_user_id)\n",
        "\n",
        "await ask_for_nation_capital()"
      ],
      "metadata": {
        "id": "COwpOlejnhGj"
      },
      "id": "COwpOlejnhGj",
      "execution_count": null,
      "outputs": []
    },
    {
      "cell_type": "markdown",
      "source": [
        "### 4) Using Agent with a memory"
      ],
      "metadata": {
        "id": "IQO8CbojtC82"
      },
      "id": "IQO8CbojtC82"
    },
    {
      "cell_type": "code",
      "source": [
        "async def ask_for_nation_capital():\n",
        "    # Create a new, single-use session for this query\n",
        "    capital_session = await session_service.create_session(\n",
        "        app_name=capital_agent.name,\n",
        "        user_id=my_user_id\n",
        "    )\n",
        "\n",
        "    # Turn 1!\n",
        "    query1 = \"Which is the capital of Italy?\"\n",
        "    print(f\"🗣️ User Query: '{query1}'\")\n",
        "\n",
        "    await run_agent_query(capital_agent, query1, capital_session, my_user_id)\n",
        "\n",
        "    # Turn 2!\n",
        "    query2 = \"Which is the capital on the nation that was on the north of the previous one?\"\n",
        "    print(f\"🗣️ User Query: '{query2}'\")\n",
        "\n",
        "    await run_agent_query(capital_agent, query2, capital_session, my_user_id)\n",
        "\n",
        "    # Turn 3!\n",
        "    query3 = \"Which is the capital on the nation that was on the north of the previous one?\"\n",
        "    print(f\"🗣️ User Query: '{query3}'\")\n",
        "\n",
        "    await run_agent_query(capital_agent, query3, capital_session, my_user_id)\n",
        "\n",
        "await ask_for_nation_capital()"
      ],
      "metadata": {
        "id": "CJEeEQ5DsAvG"
      },
      "id": "CJEeEQ5DsAvG",
      "execution_count": null,
      "outputs": []
    },
    {
      "cell_type": "markdown",
      "source": [
        "### 5) Using Agent without a memory"
      ],
      "metadata": {
        "id": "mK0vvnnHtaVj"
      },
      "id": "mK0vvnnHtaVj"
    },
    {
      "cell_type": "code",
      "source": [
        "async def ask_for_nation_capital():\n",
        "\n",
        "    # Turn 1!\n",
        "    query1 = \"Which is the capital of Italy?\"\n",
        "    capital_session_one = await session_service.create_session(\n",
        "        app_name=capital_agent.name,\n",
        "        user_id=my_user_id\n",
        "    )\n",
        "    print(f\"🗣️ User Query: '{query1}'\")\n",
        "\n",
        "    await run_agent_query(capital_agent, query1, capital_session_one, my_user_id)\n",
        "\n",
        "    # Turn 2!\n",
        "    query2 = \"Which is the capital on the nation that was on the north of the previous one?\"\n",
        "    capital_session_two = await session_service.create_session(\n",
        "        app_name=capital_agent.name,\n",
        "        user_id=my_user_id\n",
        "    )\n",
        "    print(f\"🗣️ User Query: '{query2}'\")\n",
        "\n",
        "    await run_agent_query(capital_agent, query2, capital_session_two, my_user_id)\n",
        "\n",
        "\n",
        "await ask_for_nation_capital()"
      ],
      "metadata": {
        "id": "-spbkuyMtfwl"
      },
      "id": "-spbkuyMtfwl",
      "execution_count": null,
      "outputs": []
    },
    {
      "cell_type": "markdown",
      "source": [
        "### 6) Use adk tool in a shell environment"
      ],
      "metadata": {
        "id": "1fEqB651xYTi"
      },
      "id": "1fEqB651xYTi"
    },
    {
      "cell_type": "code",
      "source": [
        "%%bash\n",
        "\n",
        "rm -rf my-first-agent\n",
        "\n",
        "adk create my-first-agent --model gemini-2.0-flash --api_key $GOOGLE_API_KEY\n",
        "\n",
        "cat > my-first-agent/agent.py << EOF\n",
        "from google.adk.agents import Agent\n",
        "\n",
        "\n",
        "root_agent = Agent(\n",
        "     name=\"capital_agent\",\n",
        "     model=\"gemini-2.0-flash\",\n",
        "     description=\"Answers user questions about the capital city of a given country.\",\n",
        "     instruction=\"\"\"\n",
        "     You are an agent that provides the capital city of a country.\n",
        "     \"\"\"\n",
        ")\n",
        "EOF\n"
      ],
      "metadata": {
        "id": "DF1I9DQst1sy"
      },
      "id": "DF1I9DQst1sy",
      "execution_count": null,
      "outputs": []
    },
    {
      "cell_type": "code",
      "source": [
        "!adk run my-first-agent"
      ],
      "metadata": {
        "id": "iGUjK7MNvbZV"
      },
      "id": "iGUjK7MNvbZV",
      "execution_count": null,
      "outputs": []
    }
  ],
  "metadata": {
    "colab": {
      "provenance": [],
      "include_colab_link": true
    },
    "kernelspec": {
      "display_name": "Python 3",
      "name": "python3"
    },
    "language_info": {
      "name": "python"
    }
  },
  "nbformat": 4,
  "nbformat_minor": 5
}
