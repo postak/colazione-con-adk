{
  "nbformat": 4,
  "nbformat_minor": 5,
  "metadata": {
    "colab": {
      "provenance": [],
      "include_colab_link": true
    },
    "kernelspec": {
      "display_name": "Python 3",
      "name": "python3"
    },
    "language_info": {
      "name": "python"
    }
  },
  "cells": [
    {
      "cell_type": "markdown",
      "metadata": {
        "id": "view-in-github",
        "colab_type": "text"
      },
      "source": [
        "<a href=\"https://colab.research.google.com/github/postak/colazione-con-adk/blob/main/2025_09_Partners_ADK_Learning_session_2.ipynb\" target=\"_parent\"><img src=\"https://colab.research.google.com/assets/colab-badge.svg\" alt=\"Open In Colab\"/></a>"
      ]
    },
    {
      "cell_type": "markdown",
      "source": [
        "```\n",
        "Copyright 2025 Google LLC.\n",
        "SPDX-License-Identifier: Apache-2.0\n",
        "```"
      ],
      "metadata": {
        "id": "W2SM6jhLFWDt"
      },
      "id": "W2SM6jhLFWDt"
    },
    {
      "cell_type": "code",
      "source": [
        "#@title Second Session\n",
        "# Licensed under the Apache License, Version 2.0 (the \"License\");\n",
        "# you may not use this file except in compliance with the License.\n",
        "# You may obtain a copy of the License at\n",
        "#\n",
        "# https://www.apache.org/licenses/LICENSE-2.0\n",
        "#\n",
        "# Unless required by applicable law or agreed to in writing, software\n",
        "# distributed under the License is distributed on an \"AS IS\" BASIS,\n",
        "# WITHOUT WARRANTIES OR CONDITIONS OF ANY KIND, either express or implied.\n",
        "# See the License for the specific language governing permissions and\n",
        "# limitations under the License."
      ],
      "metadata": {
        "cellView": "form",
        "id": "_FB4RlPQGPyf"
      },
      "id": "_FB4RlPQGPyf",
      "execution_count": null,
      "outputs": []
    },
    {
      "cell_type": "markdown",
      "source": [
        "# 🚀 Welcome to the Second Session of our Journey! 🚀\n",
        "\n",
        "Welcome! This notebook is your definitive guide to giving AI agents superpowers through **tool integration**. An agent's true power isn't just its language model; it's its ability to connect to and interact with the outside world. We will explore the entire spectrum of tool integration patterns available in the Google Agent Development Kit (ADK).\n",
        "\n",
        "By the end of this adventure, you will master how to:\n",
        "\n",
        "- ✅ **Use Built-in & Custom Function Tools**: The foundational patterns for giving an agent new skills.\n",
        "- ✅ **Generate Tools from Specifications**: Automatically create toolsets from **OpenAPI** specs and connect to enterprise APIs in **Google Cloud API Hub**.\n",
        "- ✅ **Connect to Live Tool Servers**: Use **MCP** to have your agent dynamically discover tools hosted anywhere on the web.\n",
        "- ✅ **Integrate with Other Frameworks**: Seamlessly use tools from the **LangChain** ecosystem directly within your ADK agent.\n",
        "- ✅ **Share State Between Tools**: Use `ToolContext` to enable complex, multi-step workflows where tools can pass information to each other.\n",
        "\n",
        "Let's dive into the toolkit!"
      ],
      "metadata": {
        "id": "intro"
      },
      "id": "intro"
    },
    {
      "cell_type": "markdown",
      "source": [
        "---\n",
        "### 🎁 🛑 Important Prerequisite: Setup Your Environment! 🛑 🎁\n",
        "-----------------------------------------------------------------------------\n",
        "\n",
        "You will need a **Google AI API Key** to run this notebook.\n",
        "\n",
        "👉 Follow the instructions [here](https://github.com/postak/colazione-con-adk/blob/main/Setting%20Up%20Your%20GCP%20Project%20%26%20Gemini%20API%20Key.pdf)\n"
      ],
      "metadata": {
        "id": "prereq"
      },
      "id": "prereq"
    },
    {
      "cell_type": "markdown",
      "source": [
        "---\n",
        "## Part 0: Setup & Authentication 🔑\n",
        "\n",
        "Let's install all necessary libraries and configure your API key. This single setup will prepare you for every example in the notebook."
      ],
      "metadata": {
        "id": "setup_intro"
      },
      "id": "setup_intro"
    },
    {
      "cell_type": "code",
      "execution_count": null,
      "metadata": {
        "id": "install_code"
      },
      "outputs": [],
      "source": [
        "# Install all the packages we'll need for this entire tutorial\n",
        "# This includes the ADK, Google's AI library, and libraries for specific integrations\n",
        "!pip install google-adk google-generativeai mcp requests nest-asyncio langchain-community tavily-python wikipedia -q\n",
        "\n",
        "# --- Import all necessary libraries ---\n",
        "import asyncio\n",
        "import os\n",
        "import json\n",
        "import requests\n",
        "import traceback\n",
        "from getpass import getpass\n",
        "from IPython.display import display, Markdown\n",
        "\n",
        "# ADK and Tool imports\n",
        "from google.adk.agents import Agent\n",
        "from google.adk.tools import google_search, ToolContext\n",
        "from google.adk.tools.agent_tool import AgentTool\n",
        "from google.adk.tools.openapi_tool import OpenAPIToolset\n",
        "from google.adk.tools.mcp_tool.mcp_toolset import MCPToolset\n",
        "from google.adk.tools.mcp_tool.mcp_session_manager import SseServerParams\n",
        "from google.adk.tools.langchain_tool import LangchainTool\n",
        "# Note: APIHubToolset is shown for conceptual purposes\n",
        "# from google.adk.tools.apihub_tool import APIHubToolset\n",
        "\n",
        "from google.adk.runners import Runner\n",
        "from google.adk.sessions import InMemorySessionService, Session\n",
        "\n",
        "# Google AI imports\n",
        "import google.generativeai as genai\n",
        "from google.genai.types import Content, Part\n",
        "\n",
        "# LangChain imports for Part 4\n",
        "from langchain_community.tools import TavilySearchResults\n",
        "\n",
        "# A helper to run async ADK code in Colab/Jupyter\n",
        "import nest_asyncio\n",
        "nest_asyncio.apply()\n",
        "\n",
        "print(\"✅ All libraries are installed and ready to go!\")"
      ],
      "id": "install_code"
    },
    {
      "cell_type": "code",
      "source": [
        "google_api_key = getpass('Enter your Google API Key: ')\n",
        "genai.configure(api_key=google_api_key)\n",
        "os.environ['GOOGLE_API_KEY'] = google_api_key\n",
        "print(\"✅ Google API Key configured.\")"
      ],
      "metadata": {
        "id": "EUbnRdaSktt4"
      },
      "id": "EUbnRdaSktt4",
      "execution_count": null,
      "outputs": []
    },
    {
      "cell_type": "markdown",
      "source": [
        "---\n",
        "\n",
        "## Part 1: The Basics - Direct Tooling\n",
        "\n",
        "These are the most fundamental ways to give an agent new skills."
      ],
      "metadata": {
        "id": "part1_intro"
      },
      "id": "part1_intro"
    },
    {
      "cell_type": "markdown",
      "source": [
        "### 1.1 Built-in Tools\n",
        "The ADK comes with pre-packaged tools. `Google Search` is the perfect example, giving your agent immediate access to real-time information."
      ],
      "metadata": {
        "id": "builtin_intro"
      },
      "id": "builtin_intro"
    },
    {
      "cell_type": "code",
      "source": [
        "# Define an agent and give it the built-in Google Search tool\n",
        "\n",
        "# --- Agent Definition ---\n",
        "\n",
        "def create_day_trip_agent():\n",
        "    \"\"\"Create the Spontaneous Day Trip Generator agent\"\"\"\n",
        "    return Agent(\n",
        "        name=\"day_trip_agent\",\n",
        "        model=\"gemini-2.5-flash\",\n",
        "        description=\"Agent specialized in generating spontaneous full-day itineraries based on mood, interests, and budget.\",\n",
        "        instruction=\"\"\"\n",
        "        You are the \"Spontaneous Day Trip\" Generator 🚗 - a specialized AI assistant that creates engaging full-day itineraries.\n",
        "\n",
        "        Your Mission:\n",
        "        Transform a simple mood or interest into a complete day-trip adventure with real-time details, while respecting a budget.\n",
        "\n",
        "        Guidelines:\n",
        "        1. **Budget-Aware**: Pay close attention to budget hints like 'cheap', 'affordable', or 'splurge'. Use Google Search to find activities (free museums, parks, paid attractions) that match the user's budget.\n",
        "        2. **Full-Day Structure**: Create morning, afternoon, and evening activities.\n",
        "        3. **Real-Time Focus**: Search for current operating hours and special events.\n",
        "        4. **Mood Matching**: Align suggestions with the requested mood (adventurous, relaxing, artsy, etc.).\n",
        "\n",
        "        RETURN itinerary in MARKDOWN FORMAT with clear time blocks and specific venue names.\n",
        "        \"\"\",\n",
        "        tools=[google_search]\n",
        "    )\n",
        "\n",
        "day_trip_agent = create_day_trip_agent()\n",
        "print(f\"🧞 Agent '{day_trip_agent.name}' is created and ready for adventure!\")"
      ],
      "metadata": {
        "id": "E8MaGdxUzE0N"
      },
      "id": "E8MaGdxUzE0N",
      "execution_count": null,
      "outputs": []
    },
    {
      "cell_type": "code",
      "source": [
        "# --- A Helper Function to Run Our Agents ---\n",
        "# We'll use this function throughout the notebook to make running queries easy.\n",
        "\n",
        "async def run_day_trip_agent_query(agent: Agent, query: str, session: Session, user_id: str, is_router: bool = False):\n",
        "    \"\"\"Initializes a runner and executes a query for a given agent and session.\"\"\"\n",
        "    print(f\"\\n🚀 Running query for agent: '{agent.name}' in session: '{session.id}'...\")\n",
        "\n",
        "    runner = Runner(\n",
        "        agent=agent,\n",
        "        session_service=session_service,\n",
        "        app_name=agent.name\n",
        "    )\n",
        "\n",
        "    final_response = \"\"\n",
        "    try:\n",
        "        async for event in runner.run_async(\n",
        "            user_id=user_id,\n",
        "            session_id=session.id,\n",
        "            new_message=Content(parts=[Part(text=query)], role=\"user\")\n",
        "        ):\n",
        "            if not is_router:\n",
        "                # Let's see what the agent is thinking!\n",
        "                print(f\"EVENT: {str(event)[:300]} \\n...\\n...\\n<output truncated>\\n\\n\")\n",
        "            if event.is_final_response():\n",
        "                final_response = event.content.parts[0].text\n",
        "    except Exception as e:\n",
        "        final_response = f\"An error occurred: {e}\"\n",
        "\n",
        "    if not is_router:\n",
        "     print(\"\\n\" + \"-\"*50)\n",
        "     print(\"✅ Final Response:\")\n",
        "     display(Markdown(final_response))\n",
        "     print(\"-\"*50 + \"\\n\")\n",
        "\n",
        "    return final_response\n",
        "\n",
        "# --- Initialize our Session Service ---\n",
        "# This one service will manage all the different sessions in our notebook.\n",
        "session_service = InMemorySessionService()\n",
        "my_user_id = \"adk_adventurer_001\""
      ],
      "metadata": {
        "id": "_lNrdbSpzYsC"
      },
      "id": "_lNrdbSpzYsC",
      "execution_count": null,
      "outputs": []
    },
    {
      "cell_type": "code",
      "source": [
        "# --- Let's test the Day Trip Genie! ---\n",
        "\n",
        "async def run_day_trip_genie():\n",
        "    # Create a new, single-use session for this query\n",
        "    day_trip_session = await session_service.create_session(\n",
        "        app_name=day_trip_agent.name,\n",
        "        user_id=my_user_id\n",
        "    )\n",
        "\n",
        "    # Note the new budget constraint in the query!\n",
        "    query = \"Plan a relaxing and artsy day trip near Sunnyvale, CA. Keep it affordable!\"\n",
        "    print(f\"🗣️ User Query: '{query}'\")\n",
        "\n",
        "    await run_day_trip_agent_query(day_trip_agent, query, day_trip_session, my_user_id)\n",
        "\n",
        "await run_day_trip_genie()"
      ],
      "metadata": {
        "id": "-WFMqggRzudF"
      },
      "id": "-WFMqggRzudF",
      "execution_count": null,
      "outputs": []
    },
    {
      "cell_type": "markdown",
      "source": [
        "### A Helper Function to Run Our Agents\n",
        "To keep our code clean, we'll define a single helper function to manage running our agents."
      ],
      "metadata": {
        "id": "helper_intro"
      },
      "id": "helper_intro"
    },
    {
      "cell_type": "code",
      "execution_count": null,
      "metadata": {
        "id": "helper_code"
      },
      "outputs": [],
      "source": [
        "# Initialize a session service to manage conversations\n",
        "session_service = InMemorySessionService()\n",
        "my_user_id = \"adk_toolkit_user\"\n",
        "\n",
        "async def run_agent_query(agent: Agent, query: str):\n",
        "    \"\"\"A reusable function to run a query against any agent.\"\"\"\n",
        "    session = await session_service.create_session(app_name=agent.name, user_id=my_user_id)\n",
        "    print(f\"\\n🚀 Running query for agent: '{agent.name}'...\")\n",
        "\n",
        "    runner = Runner(agent=agent, session_service=session_service, app_name=agent.name)\n",
        "    final_response = \"\"\n",
        "    try:\n",
        "        async for event in runner.run_async(\n",
        "            user_id=my_user_id,\n",
        "            session_id=session.id,\n",
        "            new_message=Content(parts=[Part(text=query)], role=\"user\")\n",
        "        ):\n",
        "            # To see the agent's full thought process, uncomment the line below\n",
        "            # print(f\"EVENT: {event}\")\n",
        "            if event.is_final_response() and event.content.parts:\n",
        "                final_response += event.content.parts[0].text\n",
        "    except Exception as e:\n",
        "        final_response = f\"An error occurred: {e}\"\n",
        "        print(\"\\n🔍 Full traceback:\")\n",
        "        print(traceback.format_exc())\n",
        "\n",
        "    print(\"\\n\" + \"-\"*50)\n",
        "    print(\"✅ Final Response:\")\n",
        "    display(Markdown(final_response))\n",
        "    print(\"-\"*50 + \"\\n\")\n",
        "    return final_response\n",
        "\n",
        "print(\"✅ Agent query helper function defined.\")"
      ],
      "id": "helper_code"
    },
    {
      "cell_type": "markdown",
      "source": [
        "### 1.2 Custom Function Tools\n",
        "This is the most common pattern: wrapping your own Python function into a tool. The function's **docstring** is crucial, as it tells the LLM what the tool does and when to use it. Here, we'll create a tool to fetch live weather data from the public U.S. National Weather Service API."
      ],
      "metadata": {
        "id": "custom_function_intro"
      },
      "id": "custom_function_intro"
    },
    {
      "cell_type": "code",
      "execution_count": null,
      "metadata": {
        "id": "custom_function_code"
      },
      "outputs": [],
      "source": [
        "# --- Tool Definition: A function that calls a live public API ---\n",
        "# A simple lookup to avoid needing a separate geocoding API for this example\n",
        "LOCATION_COORDINATES = {\n",
        "    \"sunnyvale\": \"37.3688,-122.0363\",\n",
        "    \"san francisco\": \"37.7749,-122.4194\",\n",
        "    \"lake tahoe\": \"39.0968,-120.0324\"\n",
        "}\n",
        "\n",
        "def get_live_weather_forecast(location: str) -> dict:\n",
        "    \"\"\"Gets the current, real-time weather forecast for a specified location in the US.\n",
        "\n",
        "    Args:\n",
        "        location: The city name, e.g., \"San Francisco\".\n",
        "\n",
        "    Returns:\n",
        "        A dictionary containing the temperature and a detailed forecast.\n",
        "    \"\"\"\n",
        "    print(f\"\\n🛠️ TOOL CALLED: get_live_weather_forecast(location='{location}')\\n\")\n",
        "\n",
        "    # Find coordinates for the location\n",
        "    normalized_location = location.lower()\n",
        "    coords_str = None\n",
        "    for key, val in LOCATION_COORDINATES.items():\n",
        "        if key in normalized_location:\n",
        "            coords_str = val\n",
        "            break\n",
        "    if not coords_str:\n",
        "        return {\"status\": \"error\", \"message\": f\"I don't have coordinates for {location}.\"}\n",
        "\n",
        "    try:\n",
        "        # NWS API requires 2 steps: 1. Get the forecast URL from the coordinates.\n",
        "        points_url = f\"https://api.weather.gov/points/{coords_str}\"\n",
        "        headers = {\"User-Agent\": \"ADK Example Notebook\"}\n",
        "        points_response = requests.get(points_url, headers=headers)\n",
        "        points_response.raise_for_status() # Raise an exception for bad status codes\n",
        "        forecast_url = points_response.json()['properties']['forecast']\n",
        "\n",
        "        # 2. Get the actual forecast from the URL.\n",
        "        forecast_response = requests.get(forecast_url, headers=headers)\n",
        "        forecast_response.raise_for_status()\n",
        "\n",
        "        # Extract the relevant forecast details\n",
        "        current_period = forecast_response.json()['properties']['periods'][0]\n",
        "        return {\n",
        "            \"status\": \"success\",\n",
        "            \"temperature\": f\"{current_period['temperature']}°{current_period['temperatureUnit']}\",\n",
        "            \"forecast\": current_period['detailedForecast']\n",
        "        }\n",
        "    except requests.exceptions.RequestException as e:\n",
        "        return {\"status\": \"error\", \"message\": f\"API request failed: {e}\"}\n",
        "\n",
        "# --- Agent Definition: An agent that USES the new tool ---\n",
        "weather_agent = Agent(\n",
        "    name=\"weather_aware_planner\",\n",
        "    model=\"gemini-2.5-flash\",\n",
        "    description=\"A trip planner that checks the real-time weather before making suggestions.\",\n",
        "    instruction=\"You are a cautious trip planner. Before suggesting any outdoor activities, you MUST use the `get_live_weather_forecast` tool to check conditions. Incorporate the live weather details into your recommendation.\",\n",
        "    tools=[get_live_weather_forecast]\n",
        ")\n",
        "\n",
        "print(f\"🌦️ Agent '{weather_agent.name}' is created and can now call a live weather API!\")\n",
        "\n",
        "# --- Let's test the Weather-Aware Planner ---\n",
        "await run_agent_query(weather_agent, \"I want to go hiking near Lake Tahoe tomorrow, what's the weather like?\")"
      ],
      "id": "custom_function_code"
    },
    {
      "cell_type": "markdown",
      "source": [
        "---\n",
        "## Part 2: Specification-Driven Tools\n",
        "\n",
        "Instead of writing function by function, you can provide the agent with a formal specification, and it will generate the necessary tools automatically."
      ],
      "metadata": {
        "id": "part2_intro"
      },
      "id": "part2_intro"
    },
    {
      "cell_type": "markdown",
      "source": [
        "### 2.1 From an OpenAPI Spec (`OpenAPIToolset`)\n",
        "If you have an existing API with an OpenAPI specification, you can instantly turn it into a toolset for your agent. This is incredibly powerful for integrating with existing microservices."
      ],
      "metadata": {
        "id": "openapi_intro"
      },
      "id": "openapi_intro"
    },
    {
      "cell_type": "code",
      "source": [
        "# A simple OpenAPI 3.0 spec for a Pet Store as a string\n",
        "pet_store_spec = \"\"\"\n",
        "{\n",
        "  \"openapi\": \"3.0.0\",\n",
        "  \"info\": {\n",
        "    \"title\": \"Simple Pet Store API (Mock)\",\n",
        "    \"version\": \"1.0.1\",\n",
        "    \"description\": \"An API to manage pets in a store, using httpbin for responses.\"\n",
        "  },\n",
        "  \"servers\": [\n",
        "    {\n",
        "      \"url\": \"https://httpbin.org\",\n",
        "      \"description\": \"Mock server (httpbin.org)\"\n",
        "    }\n",
        "  ],\n",
        "  \"paths\": {\n",
        "    \"/get\": {\n",
        "      \"get\": {\n",
        "        \"summary\": \"List all pets (Simulated)\",\n",
        "        \"operationId\": \"listPets\",\n",
        "        \"description\": \"Simulates returning a list of pets. Uses httpbin's /get endpoint which echoes query parameters.\",\n",
        "        \"parameters\": [\n",
        "          {\n",
        "            \"name\": \"limit\",\n",
        "            \"in\": \"query\",\n",
        "            \"description\": \"Maximum number of pets to return\",\n",
        "            \"required\": false,\n",
        "            \"schema\": { \"type\": \"integer\", \"format\": \"int32\" }\n",
        "          },\n",
        "          {\n",
        "             \"name\": \"status\",\n",
        "             \"in\": \"query\",\n",
        "             \"description\": \"Filter pets by status\",\n",
        "             \"required\": false,\n",
        "             \"schema\": { \"type\": \"string\", \"enum\": [\"available\", \"pending\", \"sold\"] }\n",
        "          }\n",
        "        ],\n",
        "        \"responses\": {\n",
        "          \"200\": {\n",
        "            \"description\": \"A list of pets (echoed query params).\",\n",
        "            \"content\": { \"application/json\": { \"schema\": { \"type\": \"object\" } } }\n",
        "          }\n",
        "        }\n",
        "      }\n",
        "    },\n",
        "    \"/post\": {\n",
        "      \"post\": {\n",
        "        \"summary\": \"Create a pet (Simulated)\",\n",
        "        \"operationId\": \"createPet\",\n",
        "        \"description\": \"Simulates adding a new pet. Uses httpbin's /post endpoint which echoes the request body.\",\n",
        "        \"requestBody\": {\n",
        "          \"description\": \"Pet object to add\",\n",
        "          \"required\": true,\n",
        "          \"content\": {\n",
        "            \"application/json\": {\n",
        "              \"schema\": {\n",
        "                \"type\": \"object\",\n",
        "                \"required\": [\"name\"],\n",
        "                \"properties\": {\n",
        "                  \"name\": {\"type\": \"string\", \"description\": \"Name of the pet\"},\n",
        "                  \"tag\": {\"type\": \"string\", \"description\": \"Optional tag for the pet\"}\n",
        "                }\n",
        "              }\n",
        "            }\n",
        "          }\n",
        "        },\n",
        "        \"responses\": {\n",
        "          \"201\": {\n",
        "            \"description\": \"Pet created successfully (echoed request body).\",\n",
        "            \"content\": { \"application/json\": { \"schema\": { \"type\": \"object\" } } }\n",
        "          }\n",
        "        }\n",
        "      }\n",
        "    },\n",
        "    \"/get/{petId}\": {\n",
        "      \"get\": {\n",
        "        \"summary\": \"Info for a specific pet (Simulated)\",\n",
        "        \"operationId\": \"showPetById\",\n",
        "        \"description\": \"Simulates returning info for a pet ID. Uses httpbin's /get endpoint.\",\n",
        "        \"parameters\": [\n",
        "          {\n",
        "            \"name\": \"petId\",\n",
        "            \"in\": \"path\",\n",
        "            \"description\": \"This is actually passed as a query param to httpbin /get\",\n",
        "            \"required\": true,\n",
        "            \"schema\": { \"type\": \"integer\", \"format\": \"int64\" }\n",
        "          }\n",
        "        ],\n",
        "        \"responses\": {\n",
        "          \"200\": {\n",
        "            \"description\": \"Information about the pet (echoed query params)\",\n",
        "            \"content\": { \"application/json\": { \"schema\": { \"type\": \"object\" } } }\n",
        "          },\n",
        "          \"404\": { \"description\": \"Pet not found (simulated)\" }\n",
        "        }\n",
        "      }\n",
        "    }\n",
        "  }\n",
        "}\n",
        "\"\"\"\n",
        "\n",
        "# 1. Create the toolset from the OpenAPI spec string\n",
        "pet_store_toolset = OpenAPIToolset(\n",
        "    spec_str=pet_store_spec, spec_str_type='json'\n",
        ")\n",
        "\n",
        "# 2. Create an agent that uses this toolset\n",
        "pet_store_agent = Agent(\n",
        "    name=\"pet_store_agent\",\n",
        "    model=\"gemini-2.5-flash\",\n",
        "    instruction=\"You are a Pet Store assistant. Use your tools to find information about pets.\",\n",
        "    tools=[pet_store_toolset]\n",
        ")\n",
        "\n",
        "# 3. Run the agent\n",
        "# The agent will see the `getPetById` tool and know how to call the API.\n",
        "await run_agent_query(pet_store_agent, \"Show me the pets available.\")\n",
        "\n",
        "await run_agent_query(pet_store_agent, \"Please add a new dog named 'Snoopy'.\")\n",
        "\n",
        "await run_agent_query(pet_store_agent, \"Get info for pet with ID 123.\")"
      ],
      "metadata": {
        "id": "wxvNDDAY1Mgy"
      },
      "id": "wxvNDDAY1Mgy",
      "execution_count": null,
      "outputs": []
    },
    {
      "cell_type": "markdown",
      "source": [
        "### 2.2 From a Public Server (`MCPToolset`)\n",
        "**MCP** is a standard that lets agents discover tools from a remote server. We can use `MCPToolset` to connect to a public server hosting tools for the MDN Web Docs."
      ],
      "metadata": {
        "id": "mcp_intro"
      },
      "id": "mcp_intro"
    },
    {
      "cell_type": "code",
      "execution_count": null,
      "metadata": {
        "id": "mcp_code"
      },
      "outputs": [],
      "source": [
        "# The URL for the public server hosting MDN documentation tools\n",
        "MCP_SERVER_URL = \"https://gitmcp.io/mdn/content\"\n",
        "\n",
        "# This is an async function because MCPToolset needs to connect to the server\n",
        "async def create_mdn_agent():\n",
        "    mcp_toolset = MCPToolset(\n",
        "        connection_params=SseServerParams(url=MCP_SERVER_URL)\n",
        "    )\n",
        "    return Agent(\n",
        "        name=\"mdn_docs_assistant\",\n",
        "        model=\"gemini-2.5-flash\",\n",
        "        tools=[mcp_toolset],\n",
        "        instruction=\"You are a web dev expert with access to MDN docs. Use your tools to answer questions.\"\n",
        "    )\n",
        "\n",
        "# Create and run the agent\n",
        "mdn_agent = await create_mdn_agent()\n",
        "await run_agent_query(mdn_agent, \"What is the CSS `box-sizing` property?\")"
      ],
      "id": "mcp_code"
    },
    {
      "cell_type": "markdown",
      "source": [
        "---\n",
        "## Part 3: Interoperability\n",
        "\n",
        "You don't have to build everything from scratch. The ADK is designed to work with other popular AI frameworks."
      ],
      "metadata": {
        "id": "part3_intro"
      },
      "id": "part3_intro"
    },
    {
      "cell_type": "markdown",
      "source": [
        "### 3.1 Using LangChain Tools (`LangchainTool`)\n",
        "If you have existing tools built with LangChain, you can wrap them using `LangchainTool` and use them directly in your ADK agent. Here, we'll wrap LangChain's `WikipediaAPIWrapper` tool."
      ],
      "metadata": {
        "id": "langchain_intro"
      },
      "id": "langchain_intro"
    },
    {
      "cell_type": "code",
      "source": [
        "from langchain_community.tools import WikipediaQueryRun\n",
        "from langchain_community.utilities import WikipediaAPIWrapper\n",
        "from google.adk.tools.langchain_tool import LangchainTool\n",
        "\n",
        "# 1. Instantiate the original LangChain tool\n",
        "# This tool queries the public Wikipedia API.\n",
        "wikipedia_tool = WikipediaQueryRun(api_wrapper=WikipediaAPIWrapper())\n",
        "\n",
        "# 2. Wrap it for ADK using LangchainTool\n",
        "adk_wrapped_wiki_tool = LangchainTool(tool=wikipedia_tool)\n",
        "\n",
        "# 3. Use the wrapped tool in your ADK agent\n",
        "wiki_agent = Agent(\n",
        "    name=\"wiki_research_agent\",\n",
        "    model=\"gemini-2.5-flash\",\n",
        "    instruction=\"You are a research assistant. Use the Wikipedia tool to answer the user's question.\",\n",
        "    tools=[adk_wrapped_wiki_tool]\n",
        ")\n",
        "\n",
        "# 4. Run the agent\n",
        "await run_agent_query(wiki_agent, \"What is the history of the Slinky toy?\")"
      ],
      "metadata": {
        "id": "PIOQexQ_jrSK"
      },
      "id": "PIOQexQ_jrSK",
      "execution_count": null,
      "outputs": []
    },
    {
      "cell_type": "markdown",
      "source": [
        "## Part 4: Advanced Composition\n",
        "Now let's combine these concepts to build more sophisticated systems.\n",
        "\n"
      ],
      "metadata": {
        "id": "E5TBB4hZ0exJ"
      },
      "id": "E5TBB4hZ0exJ"
    },
    {
      "cell_type": "markdown",
      "source": [
        "### 4.1 Sharing State Between Tools (ToolContext)\n",
        "What if one tool needs information gathered by another? ToolContext is a special object that can be passed to your tool functions, allowing them to read and write to a shared state dictionary within a single conversational turn.\n"
      ],
      "metadata": {
        "id": "iXyuXU7j0mbA"
      },
      "id": "iXyuXU7j0mbA"
    },
    {
      "cell_type": "code",
      "source": [
        "def set_user_preference(preference: str, value: str, tool_context: ToolContext):\n",
        "    \"\"\"Saves a user's preference for this session.\n",
        "\n",
        "    Args:\n",
        "        preference: The name of the preference (e.g., 'theme').\n",
        "        value: The value of the preference (e.g., 'dark').\n",
        "    \"\"\"\n",
        "    # The state is a simple dictionary unique to this turn\n",
        "    tool_context.state[preference] = value\n",
        "    print(f\"\\n🛠️ TOOL CALLED: Set preference '{preference}' to '{value}'\\n\")\n",
        "    return {\"status\": \"success\", \"message\": f\"Preference saved.\"}\n",
        "\n",
        "def get_user_preference(preference: str, tool_context: ToolContext):\n",
        "    \"\"\"Gets a previously saved user preference.\n",
        "\n",
        "    Args:\n",
        "        preference: The name of the preference to retrieve.\n",
        "    \"\"\"\n",
        "    value = tool_context.state.get(preference, \"not set\")\n",
        "    print(f\"\\n🛠️ TOOL CALLED: Retrieved preference '{preference}', value is '{value}'\\n\")\n",
        "    return {\"preference\": preference, \"value\": value}\n",
        "\n",
        "\n",
        "stateful_agent = Agent(\n",
        "    name=\"stateful_agent\",\n",
        "    model=\"gemini-2.5-flash\",\n",
        "    instruction=\"First, save the user's preference. Then, retrieve it and confirm it back to them.\",\n",
        "    tools=[set_user_preference, get_user_preference]\n",
        ")\n",
        "\n",
        "await run_agent_query(stateful_agent, \"Please set my theme preference to 'dark mode'.\")"
      ],
      "metadata": {
        "id": "a8qOZh-X03Gi"
      },
      "id": "a8qOZh-X03Gi",
      "execution_count": null,
      "outputs": []
    }
  ]
}