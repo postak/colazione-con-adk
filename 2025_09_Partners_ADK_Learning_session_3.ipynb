{
  "nbformat": 4,
  "nbformat_minor": 0,
  "metadata": {
    "colab": {
      "provenance": [],
      "include_colab_link": true
    },
    "kernelspec": {
      "name": "python3",
      "display_name": "Python 3"
    },
    "language_info": {
      "name": "python"
    }
  },
  "cells": [
    {
      "cell_type": "markdown",
      "metadata": {
        "id": "view-in-github",
        "colab_type": "text"
      },
      "source": [
        "<a href=\"https://colab.research.google.com/github/postak/colazione-con-adk/blob/main/2025_09_Partners_ADK_Learning_session_3.ipynb\" target=\"_parent\"><img src=\"https://colab.research.google.com/assets/colab-badge.svg\" alt=\"Open In Colab\"/></a>"
      ]
    },
    {
      "cell_type": "markdown",
      "source": [
        "```\n",
        "Copyright 2025 Google LLC.\n",
        "SPDX-License-Identifier: Apache-2.0\n",
        "```"
      ],
      "metadata": {
        "id": "VsPMIs86HGRy"
      }
    },
    {
      "cell_type": "code",
      "source": [
        "#@title Third Session\n",
        "# Licensed under the Apache License, Version 2.0 (the \"License\");\n",
        "# you may not use this file except in compliance with the License.\n",
        "# You may obtain a copy of the License at\n",
        "#\n",
        "# https://www.apache.org/licenses/LICENSE-2.0\n",
        "#\n",
        "# Unless required by applicable law or agreed to in writing, software\n",
        "# distributed under the License is distributed on an \"AS IS\" BASIS,\n",
        "# WITHOUT WARRANTIES OR CONDITIONS OF ANY KIND, either express or implied.\n",
        "# See the License for the specific language governing permissions and\n",
        "# limitations under the License."
      ],
      "metadata": {
        "cellView": "form",
        "id": "GtBa2qH-HGkz"
      },
      "execution_count": null,
      "outputs": []
    },
    {
      "cell_type": "markdown",
      "source": [
        "# 🚀 Welcome to the Third Session of our Journey! 🚀\n",
        "\n",
        "Welcome back! This notebook dives into the heart of the Google Agent Development Kit (ADK): orchestrating teams of specialized agents to tackle complex, multi-step problems that a single agent cannot handle alone.\n",
        "\n",
        "By the end of this session, you will be an expert in advanced agentic workflows:\n",
        "\n",
        "- **SequentialAgent**: You'll learn to chain agents together, creating pipelines where the output of one agent becomes the input for the next.\n",
        "\n",
        "- **LoopAgent**: You'll build iterative systems where agents can plan, critique, and refine their work until a specific goal is met, making them \"perfectionists.\"\n",
        "\n",
        "- **ParallelAgent**: You'll unleash efficiency by running multiple agents simultaneously and then synthesizing their collective findings into a single, comprehensive answer.\n",
        "\n",
        "- **The Router**: You will construct a \"master\" router agent that intelligently analyzes a user's request and delegates it to the correct agent or workflow.\n",
        "\n",
        "Let's get this adventure started!"
      ],
      "metadata": {
        "id": "yXU1B4j0xCr-"
      }
    },
    {
      "cell_type": "markdown",
      "source": [
        "\n",
        "-------------\n",
        "### 🎁 🛑 Important Prerequisite: Setup Your Environment! 🛑 🎁\n",
        "-----------------------------------------------------------------------------\n",
        "\n",
        "You will need a **Google AI API Key** to run this notebook.\n",
        "\n",
        "👉 Follow the instructions [here](https://github.com/postak/colazione-con-adk/blob/main/Setting%20Up%20Your%20GCP%20Project%20%26%20Gemini%20API%20Key.pdf)\n",
        "\n",
        "\n",
        " -----------------------------------------------------------------------------"
      ],
      "metadata": {
        "id": "FCvvW3l-xHoW"
      }
    },
    {
      "cell_type": "markdown",
      "source": [
        "## Part 0: Setup & Authentication 🔑\n",
        "\n",
        "First things first, let's get all our tools ready. This step installs the necessary libraries and securely configures your Google API key so your agents can access the power of Gemini."
      ],
      "metadata": {
        "id": "9et--7THxLtq"
      }
    },
    {
      "cell_type": "code",
      "source": [
        "!pip install google-adk google-generativeai -q\n",
        "\n",
        "# --- Import all necessary libraries for our entire adventure ---\n",
        "import os\n",
        "import re\n",
        "import asyncio\n",
        "from IPython.display import display, Markdown\n",
        "import google.generativeai as genai\n",
        "from google.adk.agents import Agent, SequentialAgent, LoopAgent, ParallelAgent\n",
        "from google.adk.tools import google_search, ToolContext\n",
        "from google.adk.runners import Runner\n",
        "from google.adk.sessions import InMemorySessionService, Session\n",
        "from google.genai.types import Content, Part\n",
        "from getpass import getpass\n",
        "\n",
        "print(\"✅ All libraries are ready to go!\")"
      ],
      "metadata": {
        "id": "nzcvXB1fxNXK"
      },
      "execution_count": null,
      "outputs": []
    },
    {
      "cell_type": "code",
      "source": [
        "# --- Securely Configure Your API Key ---\n",
        "\n",
        "# Prompt the user for their API key securely\n",
        "api_key = getpass('Enter your Google API Key: ')\n",
        "\n",
        "# Get Your API Key HERE 👉 https://codelabs.developers.google.com/onramp/instructions#0\n",
        "# Configure the generative AI library with the provided key\n",
        "genai.configure(api_key=api_key)\n",
        "\n",
        "# Set the API key as an environment variable for ADK to use\n",
        "os.environ['GOOGLE_API_KEY'] = api_key\n",
        "\n",
        "print(\"✅ API Key configured successfully! Let the fun begin.\")"
      ],
      "metadata": {
        "id": "BJbi1-gixOy0"
      },
      "execution_count": null,
      "outputs": []
    },
    {
      "cell_type": "code",
      "source": [
        "# --- A Helper Function to Run Our Agents ---\n",
        "# We'll use this function throughout the notebook to make running queries easy.\n",
        "\n",
        "async def run_agent_query(agent: Agent, query: str, session: Session, user_id: str, is_router: bool = False):\n",
        "    \"\"\"Initializes a runner and executes a query for a given agent and session.\"\"\"\n",
        "    print(f\"\\n🚀 Running query for agent: '{agent.name}' in session: '{session.id}'...\")\n",
        "\n",
        "    runner = Runner(\n",
        "        agent=agent,\n",
        "        session_service=session_service,\n",
        "        app_name=agent.name\n",
        "    )\n",
        "\n",
        "    final_response = \"\"\n",
        "    try:\n",
        "        async for event in runner.run_async(\n",
        "            user_id=user_id,\n",
        "            session_id=session.id,\n",
        "            new_message=Content(parts=[Part(text=query)], role=\"user\")\n",
        "        ):\n",
        "            if not is_router:\n",
        "                # Let's see what the agent is thinking!\n",
        "                print(f\"==> EVENT: {str(event)[:300]} \\n...\\n...\\n<output truncated>\\n\\n\")\n",
        "                print(f\"==> EVENT content: {event.content.parts[0].text}\\n\\n\")\n",
        "            if event.is_final_response():\n",
        "                final_response = event.content.parts[0].text\n",
        "    except Exception as e:\n",
        "        final_response = f\"An error occurred: {e}\"\n",
        "\n",
        "    if not is_router:\n",
        "     print(\"\\n\" + \"-\"*50)\n",
        "     print(f\"✅ Final Response ({agent.name}):\")\n",
        "     display(Markdown(final_response))\n",
        "     print(\"-\"*50 + \"\\n\")\n",
        "\n",
        "    return final_response\n",
        "\n",
        "# --- Initialize our Session Service ---\n",
        "# This one service will manage all the different sessions in our notebook.\n",
        "session_service = InMemorySessionService()\n",
        "my_user_id = \"adk_adventurer_001\""
      ],
      "metadata": {
        "id": "IdO0WZygxQQ4"
      },
      "execution_count": null,
      "outputs": []
    },
    {
      "cell_type": "markdown",
      "source": [
        "---\n",
        "## Part1: Sequential Workflows 🧠→🤖→🤖\n",
        "\n",
        "Some tasks are too complex for one agent. A user might ask, \"Find me a great restaurant and then tell me how to get there.\" This requires two different skills: food recommendation and navigation.\n"
      ],
      "metadata": {
        "id": "Y-jeCxU3xVqS"
      }
    },
    {
      "cell_type": "markdown",
      "source": [
        "---\n",
        "### 1.1 Manual Sequential Workflows"
      ],
      "metadata": {
        "id": "q-Mx5IV_H0By"
      }
    },
    {
      "cell_type": "markdown",
      "source": [
        "```\n",
        "+------------------+    +-------------------------+\n",
        "| foodie_agent 🍣  |    | transportation_agent 🚗 |\n",
        "| Finds place      | -->| Uses {destination}      |\n",
        "| Output: 'Jin Sho'|    | Output: Directions      |\n",
        "+------------------+    +-------------------------+\n",
        "```"
      ],
      "metadata": {
        "id": "8dBvHSvExY5R"
      }
    },
    {
      "cell_type": "code",
      "source": [
        "# --- Agent Definitions for our Specialist Team ---\n",
        "# --- Agent Definition ---\n",
        "\n",
        "foodie_agent = Agent(\n",
        "    name=\"foodie_agent\",\n",
        "    model=\"gemini-2.5-flash\",\n",
        "    tools=[google_search],\n",
        "    instruction=\"You are an expert food critic. Your goal is to find the absolute best food, restaurants, or culinary experiences based on a user's request. When you recommend a place, state its name clearly. For example: 'The best sushi is at **Jin Sho**.'\"\n",
        ")\n",
        "\n",
        "\n",
        "transportation_agent = Agent(\n",
        "    name=\"transportation_agent\",\n",
        "    model=\"gemini-2.5-flash\",\n",
        "    tools=[google_search],\n",
        "    instruction=\"You are a navigation assistant. Given a starting point and a destination, provide clear directions on how to get from the start to the end.\"\n",
        ")\n",
        "\n"
      ],
      "metadata": {
        "id": "TGAk8vixxdNE"
      },
      "execution_count": null,
      "outputs": []
    },
    {
      "cell_type": "code",
      "source": [
        "# The \"Hard Way\" - Corrected to Print the Final Output\n",
        "async def run_manual_app():\n",
        "    query = \"Find me the best sushi in Palo Alto and then tell me how to get there from the Caltrain station.\"\n",
        "\n",
        "    # 1. Run the first agent\n",
        "    print(\"➡️ Running foodie_agent to find the destination...\")\n",
        "    foodie_session = await session_service.create_session(app_name=foodie_agent.name, user_id=my_user_id)\n",
        "    foodie_response = await run_agent_query(foodie_agent, query, foodie_session, my_user_id)\n",
        "\n",
        "    # 2. Manually parse the output\n",
        "    print(\"...parsing response to find the name...\")\n",
        "    match = re.search(r'\\*\\*(.*?)\\*\\*', foodie_response)\n",
        "    if not match:\n",
        "        print(\"🚨 Could not determine the restaurant name.\")\n",
        "        return # Exit if parsing fails\n",
        "    destination = match.group(1)\n",
        "    print(f\"💡 Destination found: {destination}\")\n",
        "\n",
        "    # 3. Manually create a new query for the next agent\n",
        "    directions_query = f\"Give me directions to {destination} from the Palo Alto Caltrain station.\"\n",
        "    print(f\"➡️ Running transportation_agent with new query: '{directions_query}'\")\n",
        "\n",
        "    # 4. Run the second agent with the new query\n",
        "    transport_session = await session_service.create_session(app_name=transportation_agent.name, user_id=my_user_id)\n",
        "\n",
        "    # --- ✨ CORRECTION HERE ---\n",
        "    # 5. Run the second agent and CAPTURE the final output\n",
        "    final_directions = await run_agent_query(transportation_agent, directions_query, transport_session, my_user_id)\n",
        "\n",
        "    # 6. Print the final output\n",
        "    print(\"\\n--- ✅ Final Response from Manual Workflow ---\")\n",
        "    print(final_directions)\n",
        "    print(\"-----------------------------------------\")\n",
        "\n",
        "await run_manual_app()"
      ],
      "metadata": {
        "id": "zHIBoQnYYVTE"
      },
      "execution_count": null,
      "outputs": []
    },
    {
      "cell_type": "markdown",
      "source": [
        "---\n",
        "### 1.2 (The ADK Way): Multi-Agent Mayhem with `SequentialAgent`\n",
        "\n",
        "You've seen how to manually link agents together with custom Python code. It works, but it can get complicated. Now, let's refactor our workflow to use a powerful, built-in ADK feature designed specifically for this: the **`SequentialAgent`**.\n",
        "\n",
        "The `SequentialAgent` is a *workflow agent*. It's not powered by an LLM itself; instead, its only job is to execute a list of other agents in a strict, predefined order.\n",
        "\n",
        "The real magic ✨ is how it passes information. The ADK uses a shared `state` dictionary that each agent in the sequence can read from and write to.\n",
        "\n",
        "**Our New Workflow:**\n",
        "\n",
        "1.  **Foodie Agent**: Finds the restaurant and saves the name to `state['destination']`.\n",
        "2.  **Transportation Agent**: Automatically reads `state['destination']` and uses it to find directions.\n",
        "\n",
        "This means we no longer need custom Python code to extract text or build new queries! The ADK handles the plumbing for us."
      ],
      "metadata": {
        "id": "mscjtISLxhBt"
      }
    },
    {
      "cell_type": "markdown",
      "source": [
        "```\n",
        "+-------------------------------+\n",
        "|  find_and_navigate_agent 🧭   |\n",
        "| SequentialAgent:              |\n",
        "| 1. Find destination           |\n",
        "| 2. Get directions             |\n",
        "+---------------+---------------+\n",
        "                |\n",
        "                |\n",
        "                v\n",
        "      +---------+--------+   \n",
        "      | foodie_agent 🍣  |   \n",
        "      | Finds place      |   \n",
        "      | Output: 'Jin Sho'|  \n",
        "      +---------+--------+   \n",
        "                |\n",
        "                |\n",
        "                v\n",
        "    +-------------------------+\n",
        "    | transportation_agent 🚗 |\n",
        "    | Uses {destination}      |\n",
        "    | Output: Directions      |\n",
        "    +-------------------------+\n",
        "\n",
        "    \n",
        "Final Output: 🍣 Restaurant + 🚗 Route\n",
        "```"
      ],
      "metadata": {
        "id": "a74V_5dkxkyO"
      }
    },
    {
      "cell_type": "markdown",
      "source": [
        "Step 1: Define the Specialist \"Worker\" Agents\n",
        "First, we define our individual specialist agents. The magic lies in two key parameters: output_key and the {placeholder} syntax.\n",
        "\n",
        "The Information Producer (foodie_agent): This agent's job is to find a piece of information. We'll add an output_key to tell the framework where to save its final answer.\n",
        "\n",
        "The Information Consumer (transportation_agent): This agent's job is to use the information from the first agent. We'll use a {placeholder} in its instructions that matches the output_key from the producer.\n",
        "\n"
      ],
      "metadata": {
        "id": "OTO6HcvRWDqi"
      }
    },
    {
      "cell_type": "markdown",
      "source": [
        "Now, we define the SequentialAgent. We simply list the worker agents in the exact order we want them to run. The framework handles the rest."
      ],
      "metadata": {
        "id": "Sq5namPbWM5T"
      }
    },
    {
      "cell_type": "code",
      "source": [
        "# --- Agent Definitions for our Specialist Team (Refactored for Sequential Workflow) ---\n",
        "\n",
        "# Note the new `output_key` and the more specific instruction.\n",
        "foodie_agent = Agent(\n",
        "    name=\"foodie_agent\",\n",
        "    model=\"gemini-2.5-flash\",\n",
        "    tools=[google_search],\n",
        "    instruction=\"\"\"You are an expert food critic. Your goal is to find the best restaurant based on a user's request.\n",
        "\n",
        "    When you recommend a place, you must output *only* the name of the establishment and nothing else.\n",
        "    For example, if the best sushi is at 'Jin Sho', you should output only: Jin Sho\n",
        "    \"\"\",\n",
        "    output_key=\"destination\"  # ADK will save the agent's final response to state['destination']\n",
        ")\n",
        "\n",
        "# The `{destination}` placeholder is automatically filled by the ADK from the state.\n",
        "transportation_agent = Agent(\n",
        "    name=\"transportation_agent\",\n",
        "    model=\"gemini-2.5-flash\",\n",
        "    tools=[google_search],\n",
        "    instruction=\"\"\"You are a navigation assistant. Given a destination, provide clear directions.\n",
        "    The user wants to go to: {destination}.\n",
        "\n",
        "    Analyze the user's full original query to find their starting point.\n",
        "    Then, provide clear directions from that starting point to {destination}.\n",
        "    \"\"\",\n",
        ")\n",
        "\n",
        "# This agent will run foodie_agent, then transportation_agent, in that exact order.\n",
        "find_and_navigate_agent = SequentialAgent(\n",
        "    name=\"find_and_navigate_agent\",\n",
        "    sub_agents=[foodie_agent, transportation_agent],\n",
        "    description=\"A workflow that first finds a location and then provides directions to it.\"\n",
        ")"
      ],
      "metadata": {
        "id": "t7MdwOpOxnKm"
      },
      "execution_count": null,
      "outputs": []
    },
    {
      "cell_type": "code",
      "source": [
        "# --- Let's Test the Streamlined Workflow! ---\n",
        "\n",
        "async def run_sequential_workflow():\n",
        "    \"\"\"\n",
        "    A simplified test function that directly invokes the SequentialAgent.\n",
        "    \"\"\"\n",
        "\n",
        "    # The query contains all the information needed for the entire sequence.\n",
        "    query = \"Find me the best sushi restaurant in Palo Alto, and then tell me how to get there from the downtown Caltrain station.\"\n",
        "\n",
        "    print(f\"\\n{'='*60}\\n🗣️  Processing Query: '{query}'\\n{'='*60}\")\n",
        "    print(f\"🚀 Handing off the entire task to the '{find_and_navigate_agent.name}'...\")\n",
        "\n",
        "    # 1. Create a single session for our sequential agent\n",
        "    # The session will manage the state (like the 'destination' variable) across the sub-agent calls.\n",
        "    session = await session_service.create_session(app_name=find_and_navigate_agent.name, user_id=my_user_id)\n",
        "\n",
        "    # 2. Run the query\n",
        "    # The SequentialAgent will automatically:\n",
        "    #   - Call foodie_agent with the query.\n",
        "    #   - Take its output and save it to the state as `state['destination']`.\n",
        "    #   - Call transportation_agent, injecting the destination into its prompt.\n",
        "    #   - Stream the final response from the transportation_agent.\n",
        "    await run_agent_query(find_and_navigate_agent, query, session, my_user_id)\n",
        "\n",
        "    print(f\"\\n--- ✅ '{find_and_navigate_agent.name}' Workflow Complete ---\")\n",
        "\n",
        "\n",
        "# Execute the simplified test\n",
        "await run_sequential_workflow()"
      ],
      "metadata": {
        "id": "xAzWH0Z9WAht"
      },
      "execution_count": null,
      "outputs": []
    },
    {
      "cell_type": "markdown",
      "source": [
        "---\n",
        "## Part 2: Parallel Power with `ParallelAgent` 🧠→⚡️→🤖🤖🤖\n",
        "\n",
        "What if a user wants to find multiple, unrelated things at once? \"Find me a museum, a concert, AND a restaurant.\" Running these searches one by one is slow and inefficient.\n",
        "\n",
        "Enter the **`ParallelAgent`**. This workflow agent executes a list of sub-agents *concurrently*, dramatically speeding up tasks that can be performed independently.\n",
        "\n",
        "**Our New Workflow: The Multi-Researcher**\n",
        "\n",
        "1.  **Parallel Agent**: Simultaneously runs three specialist agents:\n",
        "    - `MuseumFinderAgent`: Finds a museum.\n",
        "    - `ConcertFinderAgent`: Finds a concert.\n",
        "    - `FoodieAgent`: Finds a restaurant.\n",
        "2.  **Synthesis Agent**: Once all three parallel searches are complete, this final agent gathers the results (which were saved to the shared `state`) and formats them into a single, neat summary for the user.\n",
        "\n",
        "This pattern lets us get a lot of work done, fast! 🚀"
      ],
      "metadata": {
        "id": "SI1RowRXaWEr"
      }
    },
    {
      "cell_type": "markdown",
      "source": [
        "```\n",
        "+-------------------------------+\n",
        "|  sequential_planner_agent ⚡   |\n",
        "| SequentialAgent:              |\n",
        "| 1. Run parallel research      |\n",
        "| 2. Synthesize results         |\n",
        "+---------------+---------------+\n",
        "                |\n",
        "                |  \n",
        "                v  \n",
        "+------------------------------+  \n",
        "| parallel_research_agent ⚡    |\n",
        "| ParallelAgent:               |\n",
        "| - museum_finder_agent 🖼️     |   \n",
        "| - concert_finder_agent 🎵    |  \n",
        "| - restaurant_finder_agent 🍽️ |\n",
        "+---------------+--------------+\n",
        "                |\n",
        "                |\n",
        "                v\n",
        "+---------------+------------+\n",
        "| synthesis_agent 📋         |\n",
        "| Combine results            |\n",
        "| Output: Bulleted summary   |\n",
        "+----------------------------+\n",
        "\n",
        "Final Output:\n",
        "• Museum: XYZ  \n",
        "• Concert: Artist at Venue  \n",
        "• Restaurant: ABC\n",
        "```"
      ],
      "metadata": {
        "id": "g6kTGCrMaYl7"
      }
    },
    {
      "cell_type": "code",
      "source": [
        "# --- Agent Definitions for a Parallel Workflow ---\n",
        "\n",
        "# Specialist Agent 1\n",
        "museum_finder_agent = Agent(\n",
        "    name=\"museum_finder_agent\", model=\"gemini-2.5-flash\", tools=[google_search],\n",
        "    instruction=\"You are a museum expert. Find the best museum based on the user's query. Output only the museum's name.\",\n",
        "    output_key=\"museum_result\"\n",
        ")\n",
        "\n",
        "# Specialist Agent 2\n",
        "concert_finder_agent = Agent(\n",
        "    name=\"concert_finder_agent\", model=\"gemini-2.5-flash\", tools=[google_search],\n",
        "    instruction=\"You are an events guide. Find a concert based on the user's query. Output only the concert name and artist.\",\n",
        "    output_key=\"concert_result\"\n",
        ")\n",
        "\n",
        "# We can reuse our foodie_agent for the third parallel task!\n",
        "# Just need to give it a new output_key for this workflow.\n",
        "# restaurant_finder_agent = foodie_agent.copy(update={\"output_key\": \"restaurant_result\"})\n",
        "restaurant_finder_agent = Agent(\n",
        "    name=\"restaurant_finder_agent\",\n",
        "    model=\"gemini-2.5-flash\",\n",
        "    tools=[google_search],\n",
        "    instruction=\"\"\"You are an expert food critic. Your goal is to find the best restaurant based on a user's request.\n",
        "\n",
        "    When you recommend a place, you must output *only* the name of the establishment.\n",
        "    For example, if the best sushi is at 'Jin Sho', you should output only: Jin Sho\n",
        "    \"\"\",\n",
        "    output_key=\"restaurant_result\" # Set the correct output key for this workflow\n",
        ")\n",
        "\n",
        "\n",
        "# ✨ The ParallelAgent runs all three specialists at once ✨\n",
        "parallel_research_agent = ParallelAgent(\n",
        "    name=\"parallel_research_agent\",\n",
        "    sub_agents=[museum_finder_agent, concert_finder_agent, restaurant_finder_agent]\n",
        ")\n",
        "\n",
        "# Agent to synthesize the parallel results\n",
        "synthesis_agent = Agent(\n",
        "    name=\"synthesis_agent\", model=\"gemini-2.5-flash\",\n",
        "    instruction=\"\"\"You are a helpful assistant. Combine the following research results into a clear, bulleted list for the user.\n",
        "    - Museum: {museum_result}\n",
        "    - Concert: {concert_result}\n",
        "    - Restaurant: {restaurant_result}\n",
        "    \"\"\"\n",
        ")\n",
        "\n",
        "# ✨ The SequentialAgent runs the parallel search, then the synthesis ✨\n",
        "sequential_planner_agent = SequentialAgent(\n",
        "    name=\"sequential_planner_agent\",\n",
        "    sub_agents=[parallel_research_agent, synthesis_agent],\n",
        "    description=\"A workflow that finds multiple things in parallel and then summarizes the results.\"\n",
        ")\n",
        "\n",
        "print(\"🤖 Agent team supercharged with a ParallelAgent workflow!\")"
      ],
      "metadata": {
        "id": "4FfzuSLPaXB-"
      },
      "execution_count": null,
      "outputs": []
    },
    {
      "cell_type": "code",
      "source": [
        "# --- Let's Test the Parallel Workflow! ---\n",
        "\n",
        "async def run_parallel_workflow():\n",
        "    \"\"\"\n",
        "    A test function that invokes the ParallelAgent within a SequentialAgent.\n",
        "    It demonstrates how to gather different pieces of information at the same time\n",
        "    and then synthesize them into a single response.\n",
        "    \"\"\"\n",
        "\n",
        "    # 1. Define a query that requires multiple, independent pieces of information.\n",
        "    # This is a perfect use case for parallel execution!\n",
        "    query = \"I'm planning a trip to San Francisco. Find me the best art museum, a cool rock concert, and the best Italian restaurant.\"\n",
        "\n",
        "    print(f\"\\n{'='*60}\\n🗣️  Processing Query: '{query}'\\n{'='*60}\")\n",
        "    print(f\"🚀 Handing off the entire task to the '{sequential_planner_agent.name}'...\")\n",
        "\n",
        "    # 2. Create a session for the full workflow.\n",
        "    session = await session_service.create_session(app_name=sequential_planner_agent.name, user_id=my_user_id)\n",
        "\n",
        "    # 3. Run the query.\n",
        "    # The ParallelPlannerAgent will automatically:\n",
        "    #  - Kick off the three finder agents (museum, concert, restaurant) simultaneously. 🚀🚀🚀\n",
        "    #  - Wait for all of them to complete.\n",
        "    #  - Store their results in the session state ('museum_result', 'concert_result', 'restaurant_result').\n",
        "    #  - Pass control to the synthesis_agent, which will have its prompt placeholders filled from the state.\n",
        "    #  - Stream the final, synthesized response.\n",
        "    await run_agent_query(sequential_planner_agent, query, session, my_user_id)\n",
        "\n",
        "    print(f\"\\n--- ✅ '{sequential_planner_agent.name}' Workflow Complete ---\")\n",
        "\n",
        "\n",
        "# Execute the parallel test\n",
        "await run_parallel_workflow()"
      ],
      "metadata": {
        "id": "fVXofEu7bLMU"
      },
      "execution_count": null,
      "outputs": []
    },
    {
      "cell_type": "markdown",
      "source": [
        "---\n",
        "## Part 3: Iterative Ideas with `LoopAgent` 🧠→🔁→🤖\n",
        "\n",
        "Sometimes a task isn't a straight line; it's a loop of refinement. A user might ask for a plan, but have constraints that require checking and re-planning. For this, the ADK provides the **`LoopAgent`**.\n",
        "\n",
        "The `LoopAgent` executes a sequence of sub-agents repeatedly until a condition is met. This is perfect for workflows involving trial and error, like planning a trip with a tight schedule.\n",
        "\n",
        "**Our New Workflow: The Perfectionist Planner**\n",
        "\n",
        "1. **Planner Agent**: Proposes an itinerary (e.g., a museum and a restaurant).\n",
        "2. **Critic Agent**: Checks the plan against a constraint (e.g., \"Is the travel time between these two places less than 45 minutes?\").\n",
        "3. **Refiner Agent**: If the critic finds a problem, this agent takes the feedback and creates a new, improved plan. If the critic is happy, it calls a special `exit_loop` tool to stop the process.\n",
        "\n",
        "The `LoopAgent` manages this cycle, ensuring we don't get stuck in an infinite loop by setting a `max_iterations` limit."
      ],
      "metadata": {
        "id": "ERNF_LmEbYzX"
      }
    },
    {
      "cell_type": "markdown",
      "source": [
        "```\n",
        "+-------------------------------+\n",
        "|  iterative_planner_agent 🔁.  |\n",
        "|                               |\n",
        "| SequentialAgent:              |\n",
        "| 1. Propose Plan               |\n",
        "| 2. Refine in loop (≤ 3 times) |\n",
        "+---------------+---------------+\n",
        "                |\n",
        "                |\n",
        "                v\n",
        "        +-------+--------+\n",
        "        | planner_agent  |\n",
        "        |                |\n",
        "        | Propose plan   |\n",
        "        | e.g., Activity |\n",
        "        | Restaurant     |\n",
        "        +-------+--------+\n",
        "                |\n",
        "                |\n",
        "                v\n",
        "    +-----------+-----------+\n",
        "    | refinement_loop 🔁    |\n",
        "    |                       |\n",
        "    | LoopAgent             |\n",
        "    | 1. Critic (time check)|\n",
        "    | 2. Refiner (fix/exit) |\n",
        "    +-----------------------+\n",
        "\n",
        "\n",
        "Uses shared state: {current_plan}, {criticism}\n",
        "Exits when: \"Plan is feasible...\"\n",
        "\n",
        "```"
      ],
      "metadata": {
        "id": "7XXZvUAIbf9U"
      }
    },
    {
      "cell_type": "code",
      "source": [
        "# --- Agent Definitions for an Iterative Workflow ---\n",
        "\n",
        "# A tool to signal that the loop should terminate\n",
        "COMPLETION_PHRASE = \"The plan is feasible and meets all constraints.\"\n",
        "def exit_loop(tool_context: ToolContext):\n",
        "  \"\"\"Call this function ONLY when the plan is approved, signaling the loop should end.\"\"\"\n",
        "  print(f\"  [Tool Call] exit_loop triggered by {tool_context.agent_name}\")\n",
        "  tool_context.actions.escalate = True\n",
        "  return {}\n",
        "\n",
        "# Agent 1: Proposes an initial plan\n",
        "planner_agent = Agent(\n",
        "    name=\"planner_agent\", model=\"gemini-2.5-flash\", tools=[google_search],\n",
        "    instruction=\"You are a trip planner. Based on the user's request, propose a single activity and a single restaurant. Output only the names, like: 'Activity: Exploratorium, Restaurant: La Mar'.\",\n",
        "    output_key=\"current_plan\"\n",
        ")\n",
        "\n",
        "# Agent 2 (in loop): Critiques the plan\n",
        "critic_agent = Agent(\n",
        "    name=\"critic_agent\", model=\"gemini-2.5-flash\", tools=[google_search],\n",
        "    instruction=f\"\"\"You are a logistics expert. Your job is to critique a travel plan. The user has a strict constraint: total travel time must be short.\n",
        "    Current Plan: {{current_plan}}\n",
        "    Use your tools to check the travel time between the two locations.\n",
        "    IF the travel time is over 45 minutes, provide a critique, like: 'This plan is inefficient. Find a restaurant closer to the activity.'\n",
        "    ELSE, respond with the exact phrase: '{COMPLETION_PHRASE}'\"\"\",\n",
        "    output_key=\"criticism\"\n",
        ")\n",
        "\n",
        "# Agent 3 (in loop): Refines the plan or exits\n",
        "refiner_agent = Agent(\n",
        "    name=\"refiner_agent\", model=\"gemini-2.5-flash\", tools=[exit_loop],\n",
        "    instruction=f\"\"\"You are a trip planner, refining a plan based on criticism.\n",
        "    Original Request: {{session.query}}\n",
        "    Critique: {{criticism}}\n",
        "    IF the critique is '{COMPLETION_PHRASE}', you MUST call the 'exit_loop' tool.\n",
        "    ELSE, generate a NEW plan that addresses the critique. Output only the new plan names, like: 'Activity: de Young Museum, Restaurant: Nopa'.\"\"\",\n",
        "    output_key=\"current_plan\"\n",
        ")\n",
        "\n",
        "# ✨ The LoopAgent orchestrates the critique-refine cycle ✨\n",
        "refinement_loop = LoopAgent(\n",
        "    name=\"refinement_loop\",\n",
        "    sub_agents=[critic_agent, refiner_agent],\n",
        "    max_iterations=3\n",
        ")\n",
        "\n",
        "# ✨ The SequentialAgent puts it all together ✨\n",
        "iterative_planner_agent = SequentialAgent(\n",
        "    name=\"iterative_planner_agent\",\n",
        "    sub_agents=[planner_agent, refinement_loop],\n",
        "    description=\"A workflow that iteratively plans and refines a trip to meet constraints.\"\n",
        ")\n",
        "\n",
        "print(\"🤖 Agent team updated with an iterative LoopAgent workflow!\")"
      ],
      "metadata": {
        "id": "cxCPCKvBbd6c"
      },
      "execution_count": null,
      "outputs": []
    },
    {
      "cell_type": "code",
      "source": [
        "# --- Let's Test the Iterative Workflow! ---\n",
        "\n",
        "async def run_iterative_workflow():\n",
        "    \"\"\"\n",
        "    A test function that invokes the LoopAgent to iteratively refine a plan\n",
        "    until it meets a specific constraint.\n",
        "    \"\"\"\n",
        "\n",
        "    # 1. Define a query where the initial, naive plan is likely to fail the constraint.\n",
        "    # Here, Muir Woods (in Marin County) and San Jose are very far apart,\n",
        "    # guaranteeing the critic_agent will find the travel time too long.\n",
        "    query = \"Plan a day for me. I want to see the redwoods at Muir Woods and eat at a top-rated Vietnamese restaurant in San Jose.\"\n",
        "\n",
        "    print(f\"\\n{'='*60}\\n🗣️  Processing Query: '{query}'\\n{'='*60}\")\n",
        "    print(f\"🚀 Handing off the task to the '{iterative_planner_agent.name}'...\")\n",
        "\n",
        "    # 2. Create a session.\n",
        "    session = await session_service.create_session(app_name=iterative_planner_agent.name, user_id=my_user_id)\n",
        "\n",
        "\n",
        "    # 3. Run the query.\n",
        "    # The iterative_planner_agent will:\n",
        "    #  - Call `planner_agent` to create an initial plan (Muir Woods & a San Jose restaurant).\n",
        "    #  - Start the `refinement_loop`.\n",
        "    #  - LOOP 1: 🔄\n",
        "    #    - `critic_agent` checks the long travel time and outputs a critique.\n",
        "    #    - `refiner_agent` receives the critique and proposes a *new* plan (e.g., Muir Woods & a closer restaurant in Marin).\n",
        "    #  - LOOP 2: 🔄\n",
        "    #    - `critic_agent` checks the new, shorter travel time and finds it acceptable. It outputs the completion phrase.\n",
        "    #    - `refiner_agent` sees the completion phrase and calls the `exit_loop` tool, which escalates and terminates the loop.\n",
        "    #  - The final, approved plan from the previous step is returned as the result.\n",
        "    await run_agent_query(iterative_planner_agent, query, session, my_user_id)\n",
        "\n",
        "    print(f\"\\n--- ✅ '{iterative_planner_agent.name}' Workflow Complete ---\")\n",
        "\n",
        "\n",
        "# Execute the iterative test\n",
        "await run_iterative_workflow()"
      ],
      "metadata": {
        "id": "DrFB3BTObjtr"
      },
      "execution_count": null,
      "outputs": []
    },
    {
      "cell_type": "markdown",
      "source": [
        "## Part 4: The Agent-as-a-Tool: Consulting a Specialist 🧑‍🍳\n",
        "\n",
        "Why build one agent that does everything when you can build a **team of specialist agents?** The **Agent-as-a-Tool** pattern allows one agent to delegate a task to another agent.\n",
        "\n",
        "**Key Concept:** This is different from a sub-agent. When Agent A calls Agent B as a tool, Agent B's response is passed **back to Agent A**. Agent A then uses that information to form its own final response to the user. It's a powerful way to compose complex behaviors from simpler, focused, and reusable agents."
      ],
      "metadata": {
        "id": "_lRxaS5FcFP2"
      }
    },
    {
      "cell_type": "markdown",
      "source": [
        "### How It Works\n",
        "\n",
        "Our top-level agent, the `trip_data_concierge_agent`, acts as the **Orchestrator**. It has two tools at its disposal:\n",
        "\n",
        "1.  `call_db_agent`: A function that internally calls our `db_agent` to fetch raw data.\n",
        "2.  `call_concierge_agent`: A function that calls the `concierge_agent`.\n",
        "\n",
        "The `concierge_agent` itself has a tool: the `food_critic_agent`.\n",
        "\n",
        "The flow for a complex query is:\n",
        "\n",
        "1.  **User** asks the `trip_data_concierge_agent` for a hotel and a nearby restaurant.\n",
        "2.  The **Orchestrator** first calls `call_db_agent` to get hotel data.\n",
        "3.  The data is saved in `tool_context.state`.\n",
        "4.  The **Orchestrator** then calls `call_concierge_agent`, which retrieves the hotel data from the context.\n",
        "5.  The `concierge_agent` receives the request and decides it needs to use its own tool, the `food_critic_agent`.\n",
        "6.  The `food_critic_agent` provides a witty recommendation.\n",
        "7.  The `concierge_agent` gets the critic's response and politely formats it.\n",
        "8.  This final, polished response is returned to the **Orchestrator**, which presents it to the user."
      ],
      "metadata": {
        "id": "hIPvZ-9AcHeo"
      }
    },
    {
      "cell_type": "markdown",
      "source": [
        "                         +-----------------------------------------------------------+\n",
        "                         |              🧭 Trip Data Concierge Agent                 |\n",
        "                         |-----------------------------------------------------------|\n",
        "                         |  Model: gemini-2.5-flash                                  |\n",
        "                         |  Description:                                             |\n",
        "                         |-----------------------------------------------------------|\n",
        "                         |  🔧 Tools:                                                |\n",
        "                         |   1. call_db_agent                                        |\n",
        "                         |   2. call_concierge_agent                                 |\n",
        "                         +-----------------------------------------------------------+\n",
        "                                      /                                \\\n",
        "                                     /                                  \\\n",
        "                                    ▼                                    ▼\n",
        "        +-------------------------------------------+    +---------------------------------------------+\n",
        "        |            🔧 Tool: call_db_agent         |    |         🔧 Tool: call_concierge_agent       |\n",
        "        |-------------------------------------------|    |---------------------------------------------|\n",
        "        | Calls: db_agent                           |    | Calls: concierge_agent                      |\n",
        "        |                                           |    | Uses data from db_agent for recommendations |\n",
        "        +-------------------------------------------+    +---------------------------------------------+\n",
        "                                |                                          |\n",
        "                                ▼                                          ▼\n",
        "       +--------------------------------------------+   +------------------------------------------------+\n",
        "       |              📦 db_agent                   |   |             🤵 concierge_agent                 |\n",
        "       |--------------------------------------------|   |------------------------------------------------|\n",
        "       | Model: gemini-2.5-flash                    |   | Model: gemini-2.5-flash                        |\n",
        "       | Role: Return mock JSON hotel data          |   | Role: Hotel staff that handles user Q&A        |\n",
        "       +--------------------------------------------+   | Tools:                                         |\n",
        "                                                        |  - food_critic_agent                           |\n",
        "                                                        +------------------------------------------------+\n",
        "                                                                                 |\n",
        "                                                                                 ▼\n",
        "                                                       +------------------------------------------------+\n",
        "                                                       |          🍽️ food_critic_agent                  |\n",
        "                                                       |------------------------------------------------|\n",
        "                                                       | Model: gemini-2.5-flash                        |\n",
        "                                                       | Role: Gives a witty restaurant recommendation  |\n",
        "                                                       +------------------------------------------------+\n"
      ],
      "metadata": {
        "id": "LOouWlZdcJ3b"
      }
    },
    {
      "cell_type": "code",
      "source": [
        "import asyncio\n",
        "from google.adk.tools import ToolContext\n",
        "from google.adk.tools.agent_tool import AgentTool\n",
        "\n",
        "# Assume 'db_agent' is a pre-defined NL2SQL Agent\n",
        "# For this example, we'll create placeholder agents.\n",
        "\n",
        "db_agent = Agent(\n",
        "    name=\"db_agent\",\n",
        "    model=\"gemini-2.5-flash\",\n",
        "    instruction=\"You are a database agent. When asked for data, return this mock JSON object: {'status': 'success', 'data': [{'name': 'The Grand Hotel', 'rating': 5, 'reviews': 450}, {'name': 'Seaside Inn', 'rating': 4, 'reviews': 620}]}\")\n",
        "\n",
        "# --- 1. Define the Specialist Agents ---\n",
        "\n",
        "# The Food Critic remains the deepest specialist\n",
        "food_critic_agent = Agent(\n",
        "    name=\"food_critic_agent\",\n",
        "    model=\"gemini-2.5-flash\",\n",
        "    instruction=\"You are a snobby but brilliant food critic. You ONLY respond with a single, witty restaurant suggestion near the provided location.\",\n",
        ")\n",
        "\n",
        "# The Concierge knows how to use the Food Critic\n",
        "concierge_agent = Agent(\n",
        "    name=\"concierge_agent\",\n",
        "    model=\"gemini-2.5-flash\",\n",
        "    instruction=\"You are a five-star hotel concierge. If the user asks for a restaurant recommendation, you MUST use the `food_critic_agent` tool. Present the opinion to the user politely.\",\n",
        "    tools=[AgentTool(agent=food_critic_agent)]\n",
        ")\n",
        "\n",
        "\n",
        "# --- 2. Define the Tools for the Orchestrator ---\n",
        "\n",
        "async def call_db_agent(\n",
        "    question: str,\n",
        "    tool_context: ToolContext,\n",
        "):\n",
        "    \"\"\"\n",
        "    Use this tool FIRST to connect to the database and retrieve a list of places, like hotels or landmarks.\n",
        "    \"\"\"\n",
        "    print(\"--- TOOL CALL: call_db_agent ---\")\n",
        "    agent_tool = AgentTool(agent=db_agent)\n",
        "    db_agent_output = await agent_tool.run_async(\n",
        "        args={\"request\": question}, tool_context=tool_context\n",
        "    )\n",
        "    # Store the retrieved data in the context's state\n",
        "    tool_context.state[\"retrieved_data\"] = db_agent_output\n",
        "    return db_agent_output\n",
        "\n",
        "\n",
        "async def call_concierge_agent(\n",
        "    question: str,\n",
        "    tool_context: ToolContext,\n",
        "):\n",
        "    \"\"\"\n",
        "    After getting data with call_db_agent, use this tool to get travel advice, opinions, or recommendations.\n",
        "    \"\"\"\n",
        "    print(\"--- TOOL CALL: call_concierge_agent ---\")\n",
        "    # Retrieve the data fetched by the previous tool\n",
        "    input_data = tool_context.state.get(\"retrieved_data\", \"No data found.\")\n",
        "\n",
        "    # Formulate a new prompt for the concierge, giving it the data context\n",
        "    question_with_data = f\"\"\"\n",
        "    Context: The database returned the following data: {input_data}\n",
        "\n",
        "    User's Request: {question}\n",
        "    \"\"\"\n",
        "\n",
        "    agent_tool = AgentTool(agent=concierge_agent)\n",
        "    concierge_output = await agent_tool.run_async(\n",
        "        args={\"request\": question_with_data}, tool_context=tool_context\n",
        "    )\n",
        "    return concierge_output\n",
        "\n",
        "\n",
        "# --- 3. Define the Top-Level Orchestrator Agent ---\n",
        "\n",
        "trip_data_concierge_agent = Agent(\n",
        "    name=\"trip_data_concierge\",\n",
        "    model=\"gemini-2.5-flash\",\n",
        "    description=\"Top-level agent that queries a database for travel data, then calls a concierge agent for recommendations.\",\n",
        "    tools=[call_db_agent, call_concierge_agent],\n",
        "    instruction=\"\"\"\n",
        "    You are a master travel planner who uses data to make recommendations.\n",
        "\n",
        "    1.  **ALWAYS start with the `call_db_agent` tool** to fetch a list of places (like hotels) that match the user's criteria.\n",
        "\n",
        "    2.  After you have the data, **use the `call_concierge_agent` tool** to answer any follow-up questions for recommendations, opinions, or advice related to the data you just found.\n",
        "    \"\"\",\n",
        ")\n",
        "\n",
        "print(f\"✅ Orchestrator Agent '{trip_data_concierge_agent.name}' is defined and ready.\")"
      ],
      "metadata": {
        "id": "OM62E2yEcL3w"
      },
      "execution_count": null,
      "outputs": []
    },
    {
      "cell_type": "code",
      "source": [
        "# --- Let's test the Trip Data Concierge Agent ---\n",
        "\n",
        "async def run_trip_data_concierge():\n",
        "    \"\"\"\n",
        "    Sets up a session and runs a query against the top-level\n",
        "    trip_data_concierge_agent.\n",
        "    \"\"\"\n",
        "    # Create a new, single-use session for this query\n",
        "    concierge_session = await session_service.create_session(\n",
        "        app_name=trip_data_concierge_agent.name,\n",
        "        user_id=my_user_id\n",
        "    )\n",
        "\n",
        "    # This query is specifically designed to trigger the full two-step process:\n",
        "    # 1. Get data from the db_agent.\n",
        "    # 2. Get a recommendation from the concierge_agent based on that data.\n",
        "    query = \"Find the top-rated hotels in San Francisco from the database, then suggest a dinner spot near the one with the most reviews.\"\n",
        "    print(f\"🗣️ User Query: '{query}'\")\n",
        "\n",
        "    # We call our existing helper function with the top-level orchestrator agent\n",
        "    await run_agent_query(trip_data_concierge_agent, query, concierge_session, my_user_id)\n",
        "\n",
        "# Run the test\n",
        "await run_trip_data_concierge()"
      ],
      "metadata": {
        "id": "Co1WNVVVcNUl"
      },
      "execution_count": null,
      "outputs": []
    },
    {
      "cell_type": "markdown",
      "source": [
        "---\n",
        "## Part 5: Final Step: Updating the Router and Running the App\n",
        "\n",
        "Now we just have one last thing to do: make our `router_agent` aware of these powerful new workflows! We'll add `iterative_planner_agent` and `parallel_planner_agent` to its list of available options.\n",
        "\n",
        "Then we can run our app with new queries designed to trigger these advanced, multi-agent workflows."
      ],
      "metadata": {
        "id": "rn3akPL_cq4z"
      }
    },
    {
      "cell_type": "markdown",
      "source": [
        "```\n",
        "                    +---------------------+\n",
        "                    |    User Query 🗣️    |\n",
        "                    +----------+----------+\n",
        "                               |\n",
        "                               v\n",
        "                    +---------------------+\n",
        "                    |   Router Agent 🤖   |\n",
        "                    |  (Classify Request) |\n",
        "                    +----------+----------+\n",
        "                               |\n",
        "          +----------------+---------------------+---------------------+--------------------+\n",
        "          |                |                     |                     |                    |\n",
        "          v                v                     v                     v                    v\n",
        "+--------------+  +------------------+  +------------------+  +------------------+  +-----------------+\n",
        "| foodie_agent |  | find_and_navigate|  | iterative_planner|  | parallel_planner |  | day_trip_agent  |\n",
        "| 🍣 Food Only |  | 🧭 Seq Workflow  |  | 🔁 Loop Workflow |  | ⚡ Parallel Tasks |  | 🧳 Basic Plan   |\n",
        "+--------------+  +------------------+  +------------------+  +------------------+  +-----------------+\n",
        "```"
      ],
      "metadata": {
        "id": "1IBH5xBIcoSQ"
      }
    },
    {
      "cell_type": "code",
      "source": [
        "# --- The ULTIMATE Router Agent --- #\n",
        "\n",
        "# in this approach, there are 2 agents: the \"router_agent\" return the appropriate\n",
        "# agent for the specific request, then the suggested agent is manually invoked\n",
        "\n",
        "\n",
        "from google.adk.agents import LlmAgent\n",
        "\n",
        "router_agent = Agent(\n",
        "    name=\"router_agent\",\n",
        "    model=\"gemini-2.5-flash\",\n",
        "    instruction=\"\"\"\n",
        "    You are a master request router. Your job is to analyze a user's query and decide which of the following agents or workflows is best suited to handle it.\n",
        "    Do not answer the query yourself, only return the name of the most appropriate choice.\n",
        "\n",
        "    Available Options:\n",
        "    - 'foodie_agent': For queries *only* about finding a single food place.\n",
        "    - 'find_and_navigate_agent': For queries that ask to *first find a place* and *then get directions* to it.\n",
        "    - 'iterative_planner_agent': For planning a trip with a specific constraint that needs checking, like travel time.\n",
        "    - 'sequential_planner_agent': For queries that ask to find multiple, independent things at once (e.g., a museum AND a concert AND a restaurant).\n",
        "\n",
        "    Only return the single, most appropriate option's name and nothing else.\n",
        "    \"\"\"\n",
        ")\n",
        "\n",
        "# The master dictionary of all our executable agents and workflows\n",
        "worker_agents = {\n",
        "    \"foodie_agent\": foodie_agent, # For simple food queries\n",
        "    \"find_and_navigate_agent\": find_and_navigate_agent, # Sequential\n",
        "    \"iterative_planner_agent\": iterative_planner_agent, # Loop\n",
        "    \"sequential_planner_agent\": sequential_planner_agent,   # Parallel\n",
        "}\n",
        "\n",
        "# --- Let's Test Everything! ---\n",
        "\n",
        "async def run_fully_loaded_app():\n",
        "    queries = [\n",
        "        # Test Case 1: Simple Sequential Flow\n",
        "        \"Find me the best sushi in Palo Alto and then tell me how to get there from the Caltrain station.\",\n",
        "\n",
        "        # Test Case 2: Iterative Loop Flow\n",
        "        \"Plan me a day in San Francisco with a museum and a nice dinner, but make sure the travel time between them is very short.\",\n",
        "\n",
        "        # Test Case 3: Parallel Flow\n",
        "        \"Help me plan a trip to SF. I need one museum, one concert, and one great restaurant.\"\n",
        "    ]\n",
        "\n",
        "    for query in queries:\n",
        "        print(f\"\\n{'='*60}\\n🗣️ Processing New Query: '{query}'\\n{'='*60}\")\n",
        "\n",
        "        # 1. Ask the Router Agent to choose the right agent or workflow\n",
        "        router_session = await session_service.create_session(app_name=router_agent.name, user_id=my_user_id)\n",
        "        print(\"🧠 Asking the router agent to make a decision...\")\n",
        "        chosen_route = await run_agent_query(router_agent, query, router_session, my_user_id, is_router=True)\n",
        "        chosen_route = chosen_route.strip().replace(\"'\", \"\")\n",
        "        print(f\"🚦 Router has selected route: '{chosen_route}'\")\n",
        "\n",
        "        # 2. Execute the chosen route\n",
        "        if chosen_route in worker_agents:\n",
        "            worker_agent = worker_agents[chosen_route]\n",
        "            print(f\"--- Handing off to {worker_agent.name} ---\")\n",
        "            worker_session = await session_service.create_session(app_name=worker_agent.name, user_id=my_user_id)\n",
        "            await run_agent_query(worker_agent, query, worker_session, my_user_id)\n",
        "            print(f\"--- {worker_agent.name} Complete ---\")\n",
        "        else:\n",
        "            print(f\"🚨 Error: Router chose an unknown route: '{chosen_route}'\")\n",
        "\n",
        "await run_fully_loaded_app()"
      ],
      "metadata": {
        "id": "94H1wQGzctC3"
      },
      "execution_count": null,
      "outputs": []
    },
    {
      "cell_type": "markdown",
      "source": [
        "#### in this approach, there is 1 agents that decide which subagent to call and then \"router\" the request to it"
      ],
      "metadata": {
        "id": "w2J07eDgoU8_"
      }
    },
    {
      "cell_type": "code",
      "source": [
        "from google.adk.agents import LlmAgent\n",
        "\n",
        "billing_agent = LlmAgent(name=\"Billing\", description=\"Handles billing inquiries.\")\n",
        "support_agent = LlmAgent(name=\"Support\", description=\"Handles technical support requests.\")\n",
        "\n",
        "coordinator = LlmAgent(\n",
        "    name=\"HelpDeskCoordinator\",\n",
        "    model=\"gemini-2.0-flash\",\n",
        "    instruction=\"Route user requests: Use Billing agent for payment issues, Support agent for technical problems.\",\n",
        "    description=\"Main help desk router.\",\n",
        "    # allow_transfer=True is often implicit with sub_agents in AutoFlow\n",
        "    sub_agents=[billing_agent, support_agent]\n",
        ")"
      ],
      "metadata": {
        "id": "6LVrz3gZ5fvG"
      },
      "execution_count": null,
      "outputs": []
    },
    {
      "cell_type": "code",
      "source": [
        "async def run_coordinator_app():\n",
        "    queries = [\n",
        "        \"Help me with a billing issue.\",\n",
        "        \"Help me with a technical issue.\"\n",
        "    ]\n",
        "\n",
        "    for query in queries:\n",
        "        # Create a new, single-use session for this query\n",
        "        coordinator_session = await session_service.create_session(\n",
        "            app_name=coordinator.name,\n",
        "            user_id=my_user_id\n",
        "        )\n",
        "\n",
        "        print(f\"\\n{'='*60}\\n🗣️ Processing New Query: '{query}'\\n{'='*60}\")\n",
        "\n",
        "        # Run the query using the top-level coordinator agent\n",
        "        await run_agent_query(coordinator, query, coordinator_session, my_user_id)\n",
        "\n",
        "# Make sure you're inside an async context, or run with asyncio\n",
        "await run_coordinator_app()\n"
      ],
      "metadata": {
        "id": "K_n0zotK5kVM"
      },
      "execution_count": null,
      "outputs": []
    },
    {
      "cell_type": "markdown",
      "source": [
        "## Part 6: Human-in-the-Loop Pattern\n",
        "\n"
      ],
      "metadata": {
        "id": "h24CWwhddfk7"
      }
    },
    {
      "cell_type": "code",
      "source": [
        "def request_human_approval(amount: float, reason: str) -> dict:\n",
        "    \"\"\"\n",
        "    Pauses the workflow and asks for human approval for an expense.\n",
        "    This tool simulates a human-in-the-loop interaction by using input().\n",
        "    \"\"\"\n",
        "    print(\"\\n\" + \"=\"*60)\n",
        "    print(\"🚨 HUMAN ACTION REQUIRED 🚨\")\n",
        "    print(f\"An agent is requesting approval for an expense.\")\n",
        "    print(f\"  - Amount: ${amount:,.2f}\")\n",
        "    print(f\"  - Reason: {reason}\")\n",
        "    print(\"=\"*60)\n",
        "\n",
        "    # Loop until valid input is received\n",
        "    while True:\n",
        "        # The input() function pauses execution here!\n",
        "        decision = input(\"Please type 'yes' to approve or 'no' to deny: \").lower().strip()\n",
        "        if decision in [\"yes\", \"no\"]:\n",
        "            print(f\"✅ Human has decided: '{decision}'. Resuming workflow...\")\n",
        "            return {\"human_decision\": decision}\n",
        "        else:\n",
        "            print(\"Invalid input. Please enter 'yes' or 'no'.\")\n",
        "\n",
        "print(\"🛠️ Human interaction tool is defined.\")"
      ],
      "metadata": {
        "id": "h8Z_O22bd8T1"
      },
      "execution_count": null,
      "outputs": []
    },
    {
      "cell_type": "code",
      "source": [
        "# --- Define a clearly-typed function to be used as a tool ---\n",
        "def save_expense_details(amount: float, reason: str, tool_context: ToolContext):\n",
        "    \"\"\"Saves the extracted expense details to the session state.\"\"\"\n",
        "    print(f\"🛠️ TOOL CALLED: save_expense_details(amount={amount}, reason='{reason}')\")\n",
        "    tool_context.state.update({\n",
        "        \"expense_amount\": amount,\n",
        "        \"expense_reason\": reason\n",
        "    })\n",
        "    return {\"status\": \"success\", \"message\": f\"Saved amount: {amount}, reason: {reason}\"}\n",
        "\n",
        "\n",
        "# --- Agent 1: The Expense Preparer ---\n",
        "# This agent's only job is to parse the user's request and get the data ready.\n",
        "expense_preparer_agent = Agent(\n",
        "    name=\"expense_preparer_agent\",\n",
        "    model=\"gemini-2.5-flash\",\n",
        "    instruction=\"\"\"You are an expense report assistant. From the user's plain-text request, extract the dollar amount and the reason for the expense.\n",
        "    The 'amount' should be a number, ignoring any currency symbols like '$'.\n",
        "    You MUST call the `save_expense_details` tool with these details.\"\"\",\n",
        "    tools=[save_expense_details],\n",
        ")\n",
        "\n",
        "\n",
        "# --- Agent 2: The Approval Requester ---\n",
        "# This agent's only job is to call the tool that pauses for human input.\n",
        "approval_requester_agent = Agent(\n",
        "    name=\"approval_requester_agent\",\n",
        "    model=\"gemini-2.5-flash\",\n",
        "    instruction=\"Your job is to request human approval for the expense. You MUST use the `request_human_approval` tool, passing it the `expense_amount` and `expense_reason` from the session state.\",\n",
        "    tools=[request_human_approval],\n",
        "    # Save the human's response to the state for the next agent\n",
        "    output_key=\"human_decision\"\n",
        ")\n",
        "\n",
        "\n",
        "# --- Agent 3: The Decision Processor ---\n",
        "# This agent acts on the human's final decision.\n",
        "decision_processor_agent = Agent(\n",
        "    name=\"decision_processor_agent\",\n",
        "    model=\"gemini-2.5-flash\",\n",
        "    instruction=\"You are the final step in the expense process. Read the `{human_decision}` from the state. If the decision was 'yes', respond to the user that their expense report has been approved and submitted. If it was 'no', inform them that the expense report was denied by the manager.\",\n",
        ")\n",
        "\n",
        "\n",
        "print(\"✅ Agent team for expense approval is ready.\")"
      ],
      "metadata": {
        "id": "wXzvjmKjd8QB"
      },
      "execution_count": null,
      "outputs": []
    },
    {
      "cell_type": "code",
      "source": [
        "# The SequentialAgent ensures our agents run in the correct order.\n",
        "human_approval_workflow = SequentialAgent(\n",
        "    name=\"human_approval_workflow\",\n",
        "    sub_agents=[\n",
        "        expense_preparer_agent,\n",
        "        approval_requester_agent,\n",
        "        decision_processor_agent\n",
        "    ],\n",
        "    description=\"A workflow that prepares an expense report and requires human approval before finalizing.\"\n",
        ")\n",
        "\n",
        "print(f\"🤖 Workflow '{human_approval_workflow.name}' is online.\")\n",
        "\n",
        "# --- Let's run the test! ---\n",
        "async def run_human_in_loop_test():\n",
        "    \"\"\"Sets up a session and runs a query that requires human intervention.\"\"\"\n",
        "\n",
        "    query = \"Hi there, I need to file an expense report for my flight to the Next '25 conference in Las Vegas. The total cost was $782.55.\"\n",
        "    print(f\"🗣️ User Query: '{query}'\")\n",
        "\n",
        "    # Create a session for this specific job\n",
        "    approval_session = await session_service.create_session(\n",
        "        app_name=human_approval_workflow.name,\n",
        "        user_id=my_user_id\n",
        "    )\n",
        "\n",
        "    # Call our helper function. It will pause mid-execution!\n",
        "    await run_agent_query(\n",
        "        agent=human_approval_workflow,\n",
        "        query=query,\n",
        "        session=approval_session,\n",
        "        user_id=my_user_id\n",
        "    )\n",
        "\n",
        "# When you run this cell, be ready to type \"yes\" or \"no\" into the input box!\n",
        "await run_human_in_loop_test()"
      ],
      "metadata": {
        "id": "aFGbrxFweax2"
      },
      "execution_count": null,
      "outputs": []
    },
    {
      "cell_type": "markdown",
      "source": [
        "## Part 7: Plugins"
      ],
      "metadata": {
        "id": "JUZceeaEkegY"
      }
    },
    {
      "cell_type": "markdown",
      "source": [
        "### 1) Define a Plugin"
      ],
      "metadata": {
        "id": "8SdzM-1hmEr2"
      }
    },
    {
      "cell_type": "code",
      "source": [
        "from google.adk.agents.base_agent import BaseAgent\n",
        "from google.adk.agents.callback_context import CallbackContext\n",
        "from google.adk.models.llm_request import LlmRequest\n",
        "from google.adk.plugins.base_plugin import BasePlugin\n",
        "\n",
        "class CountInvocationPlugin(BasePlugin):\n",
        "  \"\"\"A custom plugin that counts agent and tool invocations.\"\"\"\n",
        "\n",
        "  def __init__(self) -> None:\n",
        "    \"\"\"Initialize the plugin with counters.\"\"\"\n",
        "    super().__init__(name=\"count_invocation\")\n",
        "    self.agent_count: int = 0\n",
        "    self.tool_count: int = 0\n",
        "    self.llm_request_count: int = 0\n",
        "\n",
        "  async def before_agent_callback(\n",
        "      self, *, agent: BaseAgent, callback_context: CallbackContext\n",
        "  ) -> None:\n",
        "    \"\"\"Count agent runs.\"\"\"\n",
        "    self.agent_count += 1\n",
        "    print(f\"[Plugin] Agent run count: {self.agent_count}\")\n",
        "    print(f\"[Plugin] Agent name: {agent.name}\")\n",
        "\n",
        "  async def before_model_callback(\n",
        "      self, *, callback_context: CallbackContext, llm_request: LlmRequest\n",
        "  ) -> None:\n",
        "    \"\"\"Count LLM requests.\"\"\"\n",
        "    self.llm_request_count += 1\n",
        "    print(f\"[Plugin] LLM request count: {self.llm_request_count}\")"
      ],
      "metadata": {
        "id": "PhaT97_UqKZo"
      },
      "execution_count": null,
      "outputs": []
    },
    {
      "cell_type": "markdown",
      "source": [
        "###  2) Define a Runner with Plugin"
      ],
      "metadata": {
        "id": "M9NLjEhmt1DD"
      }
    },
    {
      "cell_type": "code",
      "source": [
        "# --- A Helper Function to Run Our Agents ---\n",
        "# We'll use this function throughout the notebook to make running queries easy.\n",
        "from google.adk.runners import InMemoryRunner\n",
        "from google.adk import Agent\n",
        "from google.adk.tools.tool_context import ToolContext\n",
        "from google.genai import types\n",
        "import asyncio\n",
        "\n",
        "async def run_agent_query_with_plugin(agent: Agent, query: str, session: Session, user_id: str, is_router: bool = False):\n",
        "    \"\"\"Initializes a runner and executes a query for a given agent and session.\"\"\"\n",
        "    print(f\"\\n🚀 Running query for agent: '{agent.name}' in session: '{session.id}'...\")\n",
        "\n",
        "    runner = Runner(\n",
        "        agent=agent,\n",
        "        session_service=session_service,\n",
        "        app_name=agent.name,\n",
        "        plugins=[CountInvocationPlugin()],\n",
        "    )\n",
        "    final_response = \"\"\n",
        "    try:\n",
        "      async for event in runner.run_async(\n",
        "        user_id=user_id,\n",
        "        session_id=session.id,\n",
        "        new_message=Content(parts=[Part(text=query)], role=\"user\")\n",
        "      ):\n",
        "            if not is_router:\n",
        "                # Let's see what the agent is thinking!\n",
        "                print(f'** Got event from {event.author}')\n",
        "            if event.is_final_response():\n",
        "                final_response = event.content.parts[0].text\n",
        "    except Exception as e:\n",
        "        final_response = f\"An error occurred: {e}\"\n",
        "\n",
        "    if not is_router:\n",
        "     print(\"\\n\" + \"-\"*50)\n",
        "     print(\"✅ Final Response:\")\n",
        "     display(Markdown(final_response))\n",
        "     print(\"-\"*50 + \"\\n\")\n",
        "\n",
        "    return final_response\n",
        "\n",
        "# --- Initialize our Session Service ---\n",
        "# This one service will manage all the different sessions in our notebook.\n",
        "session_service = InMemorySessionService()\n",
        "my_user_id = \"adk_adventurer_001\""
      ],
      "metadata": {
        "id": "aiMQb_LRsSPB"
      },
      "execution_count": null,
      "outputs": []
    },
    {
      "cell_type": "markdown",
      "source": [
        "### 3) Define a Sequential Agent"
      ],
      "metadata": {
        "id": "QQL8HfnXxX4w"
      }
    },
    {
      "cell_type": "code",
      "source": [
        "# --- Agent Definitions for our Specialist Team (Refactored for Sequential Workflow) ---\n",
        "\n",
        "# Note the new `output_key` and the more specific instruction.\n",
        "foodie_agent = Agent(\n",
        "    name=\"foodie_agent\",\n",
        "    model=\"gemini-2.5-flash\",\n",
        "    tools=[google_search],\n",
        "    instruction=\"\"\"You are an expert food critic. Your goal is to find the best restaurant based on a user's request.\n",
        "\n",
        "    When you recommend a place, you must output *only* the name of the establishment and nothing else.\n",
        "    For example, if the best sushi is at 'Jin Sho', you should output only: Jin Sho\n",
        "    \"\"\",\n",
        "    output_key=\"destination\"  # ADK will save the agent's final response to state['destination']\n",
        ")\n",
        "\n",
        "# The `{destination}` placeholder is automatically filled by the ADK from the state.\n",
        "transportation_agent = Agent(\n",
        "    name=\"transportation_agent\",\n",
        "    model=\"gemini-2.5-flash\",\n",
        "    tools=[google_search],\n",
        "    instruction=\"\"\"You are a navigation assistant. Given a destination, provide clear directions.\n",
        "    The user wants to go to: {destination}.\n",
        "\n",
        "    Analyze the user's full original query to find their starting point.\n",
        "    Then, provide clear directions from that starting point to {destination}.\n",
        "    \"\"\",\n",
        ")\n",
        "\n",
        "# This agent will run foodie_agent, then transportation_agent, in that exact order.\n",
        "find_and_navigate_agent = SequentialAgent(\n",
        "    name=\"find_and_navigate_agent\",\n",
        "    sub_agents=[foodie_agent, transportation_agent],\n",
        "    description=\"A workflow that first finds a location and then provides directions to it.\"\n",
        ")"
      ],
      "metadata": {
        "id": "L1TaYKClyWmC"
      },
      "execution_count": null,
      "outputs": []
    },
    {
      "cell_type": "markdown",
      "source": [
        "###  4) Run the Sequential Agent with Plugin"
      ],
      "metadata": {
        "id": "XBS1FEn5z1bC"
      }
    },
    {
      "cell_type": "code",
      "source": [
        "# --- Let's Test the Streamlined Workflow! ---\n",
        "\n",
        "async def run_sequential_workflow():\n",
        "    \"\"\"\n",
        "    A simplified test function that directly invokes the SequentialAgent.\n",
        "    \"\"\"\n",
        "\n",
        "    # The query contains all the information needed for the entire sequence.\n",
        "    query = \"Find me the best sushi restaurant in Palo Alto, and then tell me how to get there from the downtown Caltrain station.\"\n",
        "\n",
        "    print(f\"\\n{'='*60}\\n🗣️  Processing Query: '{query}'\\n{'='*60}\")\n",
        "    print(f\"🚀 Handing off the entire task to the '{find_and_navigate_agent.name}'...\")\n",
        "\n",
        "    # 1. Create a single session for our sequential agent\n",
        "    # The session will manage the state (like the 'destination' variable) across the sub-agent calls.\n",
        "    session = await session_service.create_session(app_name=find_and_navigate_agent.name, user_id=my_user_id)\n",
        "\n",
        "    # 2. Run the query\n",
        "    # The SequentialAgent will automatically:\n",
        "    #   - Call foodie_agent with the query.\n",
        "    #   - Take its output and save it to the state as `state['destination']`.\n",
        "    #   - Call transportation_agent, injecting the destination into its prompt.\n",
        "    #   - Stream the final response from the transportation_agent.\n",
        "    await run_agent_query_with_plugin(find_and_navigate_agent, query, session, my_user_id)\n",
        "\n",
        "    print(f\"\\n--- ✅ '{find_and_navigate_agent.name}' Workflow Complete ---\")\n",
        "\n",
        "\n",
        "# Execute the simplified test\n",
        "await run_sequential_workflow()"
      ],
      "metadata": {
        "id": "k2k3tzeOyxWh"
      },
      "execution_count": null,
      "outputs": []
    }
  ]
}