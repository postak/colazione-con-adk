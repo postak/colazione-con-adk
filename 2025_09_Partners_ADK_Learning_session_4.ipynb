{
  "nbformat": 4,
  "nbformat_minor": 5,
  "metadata": {
    "kernelspec": {
      "display_name": "Python 3",
      "language": "python",
      "name": "python3"
    },
    "language_info": {
      "name": "python",
      "version": "3.10"
    },
    "colab": {
      "provenance": [],
      "include_colab_link": true
    }
  },
  "cells": [
    {
      "cell_type": "markdown",
      "metadata": {
        "id": "view-in-github",
        "colab_type": "text"
      },
      "source": [
        "<a href=\"https://colab.research.google.com/github/postak/colazione-con-adk/blob/main/2025_09_Partners_ADK_Learning_session_4.ipynb\" target=\"_parent\"><img src=\"https://colab.research.google.com/assets/colab-badge.svg\" alt=\"Open In Colab\"/></a>"
      ]
    },
    {
      "cell_type": "markdown",
      "source": [
        "```\n",
        "Copyright 2025 Google LLC.\n",
        "SPDX-License-Identifier: Apache-2.0\n",
        "```"
      ],
      "metadata": {
        "id": "jYsSCe_qJNgl"
      },
      "id": "jYsSCe_qJNgl"
    },
    {
      "cell_type": "code",
      "source": [
        "#@title Last Session\n",
        "# Licensed under the Apache License, Version 2.0 (the \"License\");\n",
        "# you may not use this file except in compliance with the License.\n",
        "# You may obtain a copy of the License at\n",
        "#\n",
        "# https://www.apache.org/licenses/LICENSE-2.0\n",
        "#\n",
        "# Unless required by applicable law or agreed to in writing, software\n",
        "# distributed under the License is distributed on an \"AS IS\" BASIS,\n",
        "# WITHOUT WARRANTIES OR CONDITIONS OF ANY KIND, either express or implied.\n",
        "# See the License for the specific language governing permissions and\n",
        "# limitations under the License."
      ],
      "metadata": {
        "cellView": "form",
        "id": "4oRvMMo1JNJU"
      },
      "id": "4oRvMMo1JNJU",
      "execution_count": null,
      "outputs": []
    },
    {
      "cell_type": "markdown",
      "metadata": {
        "id": "YTQHhfuIQeWk"
      },
      "source": [
        "# Advanced Agent Development: From Deployment to Evaluation on Vertex AI\n",
        "\n",
        "Welcome! 🚀\n",
        "\n",
        "This notebook is your comprehensive guide to the full lifecycle of building, deploying, and evaluating sophisticated AI agents using the Google Agent Development Kit (ADK) and Vertex AI.\n",
        "\n",
        "**Our journey will follow a specific, educational flow:**\n",
        "1.  **Agent #1 (Standard Deployment)**: We'll create a multi-agent trip planner with **custom Python tools** and deploy it *without* tracing to see a baseline deployment.\n",
        "2.  **Understanding Sessions**: We'll query our first agent with and without sessions to clearly demonstrate the difference between stateless and stateful (short-term memory) conversations.\n",
        "3.  **Agent #2 (Memory & Tracing)**: We'll build a second agent with a long-term **Memory Bank** and deploy it *with* **tracing** enabled.\n",
        "4.  **Comparing Tracing**: We'll see the practical difference in observability between an agent deployed with and without tracing.\n",
        "5.  **Comprehensive Evaluation**: Finally, we'll run a rigorous evaluation on our first agent to measure its performance, tool selection, and even the accuracy of the arguments passed to its tools.\n",
        "\n",
        "Let's get started!"
      ],
      "id": "YTQHhfuIQeWk"
    },
    {
      "cell_type": "markdown",
      "source": [
        "\n",
        "-------------\n",
        "### 🎁 🛑 Important Prerequisite: Setup Your Environment! 🛑 🎁\n",
        "-----------------------------------------------------------------------------\n",
        "\n",
        "You will need a **Google AI API Key** to run this notebook.\n",
        "\n",
        "👉 Follow the instructions [here](https://github.com/postak/colazione-con-adk/blob/main/Setting%20Up%20Your%20GCP%20Project%20%26%20Gemini%20API%20Key.pdf)\n",
        "\n",
        " -----------------------------------------------------------------------------"
      ],
      "metadata": {
        "id": "DStFLwrF2hvq"
      },
      "id": "DStFLwrF2hvq"
    },
    {
      "cell_type": "markdown",
      "metadata": {
        "id": "t-NzlR5iQeWl"
      },
      "source": [
        "---\n",
        "\n",
        "## 1. Setup and Configuration\n",
        "\n",
        "First, we'll install the necessary packages and configure our Google Cloud environment."
      ],
      "id": "t-NzlR5iQeWl"
    },
    {
      "cell_type": "markdown",
      "metadata": {
        "id": "56NgyVx_QeWl"
      },
      "source": [
        "### Install Libraries\n",
        "This command installs the Google Cloud AI Platform SDK, including support for the Agent Development Kit (`adk`), evaluation, and Agent Engines."
      ],
      "id": "56NgyVx_QeWl"
    },
    {
      "cell_type": "code",
      "metadata": {
        "id": "iDdF0Va3QeWl"
      },
      "source": [
        "# --- 1. Installation ---\n",
        "%pip install --upgrade --quiet 'google-cloud-aiplatform[evaluation,adk,agent_engines]'\n",
        "%pip install --upgrade --quiet 'google-api-python-client'\n",
        "%pip install --upgrade --quiet 'google-adk==1.15.1'\n",
        "%pip install --upgrade --quiet 'google-cloud-aiplatform==1.117.0'"
      ],
      "outputs": [],
      "execution_count": null,
      "id": "iDdF0Va3QeWl"
    },
    {
      "cell_type": "markdown",
      "metadata": {
        "id": "cQJXBknCQeWm"
      },
      "source": [
        "### Import Libraries\n",
        "Now, let's import all the libraries we'll need for this session."
      ],
      "id": "cQJXBknCQeWm"
    },
    {
      "cell_type": "code",
      "metadata": {
        "id": "mxcFBqjDQeWm"
      },
      "source": [
        "# --- 2. Import all necessary libraries ---\n",
        "import os\n",
        "import sys\n",
        "import json\n",
        "import asyncio\n",
        "import random\n",
        "import string\n",
        "from uuid import uuid4\n",
        "from typing import Any, List\n",
        "\n",
        "import pandas as pd\n",
        "import plotly.graph_objects as go\n",
        "import vertexai\n",
        "from google.colab import auth\n",
        "from IPython.display import HTML, Markdown, display\n",
        "\n",
        "# --- ADK, Agent, and Evaluation Components ---\n",
        "from google.adk.agents import Agent\n",
        "from google.adk.events import Event\n",
        "from google.adk.runners import Runner\n",
        "import google.adk as adk\n",
        "from google.adk.memory import VertexAiMemoryBankService\n",
        "from google.adk.sessions import VertexAiSessionService, InMemorySessionService\n",
        "from google.genai import types\n",
        "from vertexai import agent_engines\n",
        "from vertexai.preview import reasoning_engines\n",
        "from vertexai.preview.evaluation import EvalTask\n",
        "\n",
        "print(\"✅ All libraries are ready to go!\")"
      ],
      "outputs": [],
      "execution_count": null,
      "id": "mxcFBqjDQeWm"
    },
    {
      "cell_type": "markdown",
      "metadata": {
        "id": "rEvdlh8sQeWm"
      },
      "source": [
        "### Authenticate and Configure Your Project\n",
        "To use Vertex AI, you need an active Google Cloud project. This section handles authenticating your environment and setting up the necessary project configurations."
      ],
      "id": "rEvdlh8sQeWm"
    },
    {
      "cell_type": "code",
      "metadata": {
        "tags": [],
        "id": "HhM8MzHMQeWn"
      },
      "source": [
        "# --- 3. Authentication & Project Configuration ---\n",
        "\n",
        "# Authenticate user in Colab\n",
        "if \"google.colab\" in sys.modules:\n",
        "    auth.authenticate_user()\n",
        "    print(\"✅ Authenticated successfully.\")\n",
        "\n",
        "# @title Set Your Google Cloud Project Details\n",
        "PROJECT_ID = \"\"  # @param {type:\"string\"}\n",
        "LOCATION = \"\"          # @param {type:\"string\"}\n",
        "STAGING_BUCKET = f\"gs://{PROJECT_ID}-adk-staging\" # A unique name for your bucket\n",
        "\n",
        "# Set environment variables for the ADK and gcloud\n",
        "os.environ[\"GOOGLE_CLOUD_PROJECT\"] = PROJECT_ID\n",
        "os.environ[\"GOOGLE_CLOUD_LOCATION\"] = LOCATION\n",
        "os.environ[\"GOOGLE_GENAI_USE_VERTEXAI\"] = \"True\"\n",
        "\n",
        "# Create the staging bucket if it doesn't exist\n",
        "!gcloud storage buckets create {STAGING_BUCKET} --project={PROJECT_ID} --location={LOCATION} -l {LOCATION} 2>/dev/null\n",
        "\n",
        "# Initialize the Vertex AI SDK\n",
        "# We'll also create an \"Experiment\" to group our evaluation runs\n",
        "EVAL_EXPERIMENT_NAME = f\"trip-planner-evaluation-{uuid4().hex[:6]}\"\n",
        "vertexai.init(project=PROJECT_ID, location=LOCATION, staging_bucket=STAGING_BUCKET, experiment=EVAL_EXPERIMENT_NAME)\n",
        "\n",
        "print(f\"\\n✅ Vertex AI configured for project '{PROJECT_ID}' in '{LOCATION}'.\")\n",
        "print(f\"🔬 Evaluation results will be saved to experiment: {EVAL_EXPERIMENT_NAME}\")"
      ],
      "outputs": [],
      "execution_count": null,
      "id": "HhM8MzHMQeWn"
    },
    {
      "cell_type": "markdown",
      "metadata": {
        "id": "oc8iYOqZQeWn"
      },
      "source": [
        "---\n",
        "\n",
        "## 2. Agent #1: The Trip Planner (Standard Deployment)\n",
        "\n",
        "We'll build our first agent, a \"team\" of specialists. Crucially, we will now provide them with our own **custom Python functions as tools** instead of a generic search tool. This makes their behavior deterministic and much easier to evaluate accurately."
      ],
      "id": "oc8iYOqZQeWn"
    },
    {
      "cell_type": "markdown",
      "metadata": {
        "id": "nlOCtLg2QeWn"
      },
      "source": [
        "### Define Custom Tools\n",
        "\n",
        "These functions act as our mock APIs or databases. The agent will learn to call these with the correct parameters based on the user's request."
      ],
      "id": "nlOCtLg2QeWn"
    },
    {
      "cell_type": "code",
      "metadata": {
        "id": "LSp_TZXHQeWn"
      },
      "source": [
        "# --- Custom Tool Definitions ---\n",
        "\n",
        "def get_travel_attractions(location: str, interest: str = \"any\"):\n",
        "    \"\"\"\n",
        "    Finds travel attractions in a given location based on an interest.\n",
        "\n",
        "    Args:\n",
        "        location: The city or place to search for attractions (e.g., \"Paris\", \"Rome\").\n",
        "        interest: The type of attraction to look for (e.g., \"museum\", \"historical site\", \"park\").\n",
        "    \"\"\"\n",
        "    # This is a mock database for demonstration\n",
        "    attractions = {\n",
        "        \"paris\": {\"museum\": \"The Louvre\", \"historical site\": \"Eiffel Tower\"},\n",
        "        \"rome\": {\"historical site\": \"The Colosseum\", \"museum\": \"Vatican Museums\"},\n",
        "        \"tokyo\": {\"museum\": \"teamLab Borderless\", \"park\": \"Shinjuku Gyoen\"},\n",
        "        \"san francisco\": {\"historical site\": \"Alcatraz Island\", \"park\": \"Golden Gate Park\"}\n",
        "    }\n",
        "\n",
        "    city = attractions.get(location.lower(), {})\n",
        "    if interest == \"any\":\n",
        "        return city or f\"Sorry, I don't have any information for {location}.\"\n",
        "    else:\n",
        "        return city.get(interest.lower(), f\"Sorry, I couldn't find a {interest} in {location}.\")\n",
        "\n",
        "def get_restaurant_recommendations(location: str, cuisine: str):\n",
        "    \"\"\"\n",
        "    Recommends a restaurant in a location based on the desired cuisine.\n",
        "\n",
        "    Args:\n",
        "        location: The city where the user wants to eat (e.g., \"Paris\", \"Rome\").\n",
        "        cuisine: The type of food they want (e.g., \"pasta\", \"seafood\", \"cafe\").\n",
        "    \"\"\"\n",
        "    # This is a mock database for demonstration\n",
        "    restaurants = {\n",
        "        \"rome\": {\"pasta\": \"Trattoria Da Enzo al 29\"},\n",
        "        \"san francisco\": {\"seafood\": \"Hog Island Oyster Co.\"},\n",
        "        \"paris\": {\"cafe\": \"Les Deux Magots\", \"fancy\": \"Le Cinq\"}\n",
        "    }\n",
        "\n",
        "    city = restaurants.get(location.lower(), {})\n",
        "    return city.get(cuisine.lower(), f\"Sorry, I couldn't find a {cuisine} restaurant in {location}.\")"
      ],
      "outputs": [],
      "execution_count": null,
      "id": "LSp_TZXHQeWn"
    },
    {
      "cell_type": "markdown",
      "metadata": {
        "id": "cwp03aIbQeWn"
      },
      "source": [
        "### Define and Deploy the Agent Team (Without Tracing)\n",
        "Now, we'll update our specialist agents to use these new, more specific tools."
      ],
      "id": "cwp03aIbQeWn"
    },
    {
      "cell_type": "code",
      "metadata": {
        "id": "rT_K7AtKQeWo"
      },
      "source": [
        "# --- Specialist Agent Definitions using Custom Tools ---\n",
        "def create_activities_agent():\n",
        "    return Agent(\n",
        "        name=\"activities_agent\", model=\"gemini-2.5-pro\",\n",
        "        description=\"Specialist for finding interesting activities, attractions, and historical sites.\",\n",
        "        instruction=\"\",\n",
        "        tools=[get_travel_attractions],\n",
        "    )\n",
        "\n",
        "def create_food_agent():\n",
        "    return Agent(\n",
        "        name=\"food_agent\", model=\"gemini-2.5-pro\",\n",
        "        description=\"Specialist for finding great restaurants based on cuisine.\",\n",
        "        instruction=\"\",\n",
        "        tools=[get_restaurant_recommendations],\n",
        "    )\n",
        "\n",
        "# --- Coordinator Agent Definition ---\n",
        "def create_trip_coordinator_agent(sub_agents: List[Agent]):\n",
        "    return Agent(\n",
        "        name=\"trip_coordinator_agent\", model=\"gemini-2.5-pro\",\n",
        "        description=\"The master coordinator for trip planning. It delegates tasks to specialist agents.\",\n",
        "        sub_agents=sub_agents,\n",
        "        instruction=\"\"\"\n",
        "        You are the master \"Trip Coordinator\" 🧭. Your job is to plan a full itinerary by delegating to your specialist agents.\n",
        "        Extract the location, interests, and cuisine types from the user's prompt to use as arguments for your specialist agents.\n",
        "        Once you have the information, combine the it  into a single, cohesive itinerary and present it in a clean MARKDOWN format.\n",
        "        \"\"\",\n",
        "    )\n"
      ],
      "outputs": [],
      "execution_count": null,
      "id": "rT_K7AtKQeWo"
    },
    {
      "cell_type": "code",
      "source": [
        "# --- Assemble and Deploy the Team ---\n",
        "trip_coordinator_agent = create_trip_coordinator_agent(\n",
        "    sub_agents=[create_activities_agent(), create_food_agent()]\n",
        ")\n",
        "print(f\"👑 Agent '{trip_coordinator_agent.name}' is ready for deployment!\")\n",
        "\n",
        "deployment_name = f\"trip-planner-basic-{uuid4().hex[:6]}\"\n",
        "print(f\"🚀 Deploying agent as '{deployment_name}' without tracing...\")\n",
        "\n",
        "deployed_agent_no_trace = agent_engines.create(\n",
        "    display_name=deployment_name,\n",
        "    agent_engine=trip_coordinator_agent, # Pass the agent object directly\n",
        "    requirements=[\"google-cloud-aiplatform[agent_engines]==1.117.0\", \"google-adk==1.15.1\"],\n",
        "    description=\"A multi-agent trip planning system with custom tools and tracing disabled.\"\n",
        ")\n",
        "\n",
        "print(\"-\" * 50)\n",
        "print(\"✅ Agent System deployed successfully!\")\n",
        "display(Markdown(f\"**Resource Name:** `{deployed_agent_no_trace.resource_name}`\"))"
      ],
      "metadata": {
        "id": "fNZIL1F9Tw-w"
      },
      "id": "fNZIL1F9Tw-w",
      "execution_count": null,
      "outputs": []
    },
    {
      "cell_type": "markdown",
      "metadata": {
        "id": "lXwEWK2PQeWo"
      },
      "source": [
        "---\n",
        "\n",
        "## 3. Interacting with Agent #1: Understanding Sessions\n",
        "\n",
        "Now we'll query our deployed agent. The goal here is to understand the crucial difference between a single, stateless query and a stateful conversation that uses a session for short-term memory."
      ],
      "id": "lXwEWK2PQeWo"
    },
    {
      "cell_type": "markdown",
      "metadata": {
        "id": "5u61GjxcQeWo"
      },
      "source": [
        "### Helper Function for Clean Interaction\n",
        "To avoid repeating code, we'll create one reusable helper function."
      ],
      "id": "5u61GjxcQeWo"
    },
    {
      "cell_type": "code",
      "source": [
        "async def stream_and_print_response(agent, message: str, user_id, session) -> str:\n",
        "\n",
        "  events = []\n",
        "  async for event in agent.async_stream_query(\n",
        "      user_id=user_id,\n",
        "      session_id = session[\"id\"],\n",
        "      message=message,\n",
        "  ):\n",
        "    events.append(event)\n",
        "\n",
        "  print(\"--- Full Event Stream ---\")\n",
        "  for event in events:\n",
        "      print(event)\n",
        "\n",
        "  # For quick tests, you can extract just the final text response\n",
        "  final_text_responses = [\n",
        "      e for e in events\n",
        "      if e.get(\"content\", {}).get(\"parts\", [{}])[0].get(\"text\")\n",
        "      and e.get(\"finish_reason\", {})\n",
        "      # and not e.get(\"content\", {}).get(\"parts\", [{}])[0].get(\"function_call\")\n",
        "  ]\n",
        "  if final_text_responses:\n",
        "      print(\"\\n--- Final Response ---\")\n",
        "      output = \"\"\n",
        "      for final_text_response in final_text_responses:\n",
        "        print(final_text_response[\"content\"][\"parts\"][0][\"text\"])\n",
        "        output += final_text_response[\"content\"][\"parts\"][0][\"text\"]\n",
        "      return (output)\n",
        "  print (\"No response from agent\")\n"
      ],
      "metadata": {
        "id": "pkPt62qX7Rst"
      },
      "id": "pkPt62qX7Rst",
      "execution_count": null,
      "outputs": []
    },
    {
      "cell_type": "code",
      "source": [
        "# !!!!! To speed up, let use an agent already deployed\n",
        "# deployed_agent_no_trace = agent_engines.get(\"tbd\")\n"
      ],
      "metadata": {
        "id": "p1WK0lBDHbVr"
      },
      "id": "p1WK0lBDHbVr",
      "execution_count": null,
      "outputs": []
    },
    {
      "cell_type": "markdown",
      "metadata": {
        "id": "3wOYlIchQeWo"
      },
      "source": [
        "### Querying With a Session\n",
        "we'll show the behaviour of the session to enable short-term memory for a single, continuous conversation."
      ],
      "id": "3wOYlIchQeWo"
    },
    {
      "cell_type": "code",
      "metadata": {
        "id": "_SQtfe-wQeWo"
      },
      "source": [
        "print(\"\\n\\n🗣️ Querying WITH a session (Stateful Conversation)\")\n",
        "\n",
        "user_id = f\"session-demo-user-{uuid4().hex[:6]}\"\n",
        "\n",
        "session = await deployed_agent_no_trace.async_create_session(user_id=user_id)\n",
        "print (session)\n",
        "\n",
        "# --- First Query ---\n",
        "query_1 = \"My name is Annie. I want to plan a trip to Rome.\"\n",
        "print(f\"\\n💬 User: {query_1}\")\n",
        "await stream_and_print_response(deployed_agent_no_trace, query_1, user_id, session)\n",
        "\n",
        "print(\"\\n\" + \"-\" * 50)\n",
        "\n",
        "\n",
        "# --- Follow-up Query (in the same session) ---\n",
        "query_2 = \"Find a famous historical site there and a good place for pasta.\"\n",
        "print(f\"\\n💬 User: {query_2}\")\n",
        "await stream_and_print_response(deployed_agent_no_trace, query_2, user_id, session)\n",
        "\n",
        "print(\"\\n\" + \"-\" * 50)\n",
        "\n",
        "# --- Follow-up Query (in the same session) ---\n",
        "query_3 = \"What is my name?\"\n",
        "print(f\"\\n💬 User: {query_3}\")\n",
        "await stream_and_print_response(deployed_agent_no_trace, query_3,user_id, session)\n",
        "\n",
        "print(\"\\n\" + \"-\" * 50)\n",
        "\n",
        "# --- Follow-up Query (in the different session) ---\n",
        "session2 = await deployed_agent_no_trace.async_create_session(user_id=user_id)\n",
        "print (session2)\n",
        "print(f\"\\n💬 User: {query_3} Now in different session\")\n",
        "await stream_and_print_response(deployed_agent_no_trace, query_3,user_id, session2)\n",
        "\n",
        "\n",
        "print(\"\\n\" + \"-\" * 50)\n",
        "# print(\"Success! The agent remembered the location ('Rome') from the first message to correctly answer the second.\")"
      ],
      "outputs": [],
      "execution_count": null,
      "id": "_SQtfe-wQeWo"
    },
    {
      "cell_type": "markdown",
      "metadata": {
        "id": "f4yNVqi2QeWo"
      },
      "source": [
        "---\n",
        "\n",
        "## 4. Agent #2: Adding Long-Term Memory & Tracing\n",
        "Session memory is temporary. For an agent to remember preferences across *different conversations*, it needs a **Memory Bank**.\n",
        "\n",
        "Let's build a new agent designed for this. This time, we **will enable tracing** so we can see its inner workings."
      ],
      "id": "f4yNVqi2QeWo"
    },
    {
      "cell_type": "markdown",
      "metadata": {
        "id": "yZ8sE9scQeWp"
      },
      "source": [
        "### Define and Deploy the Memory Agent (With Tracing)"
      ],
      "id": "yZ8sE9scQeWp"
    },
    {
      "cell_type": "code",
      "metadata": {
        "id": "sJMiVRD6QeWp"
      },
      "source": [
        "from google.genai.types import Content, Part\n",
        "\n",
        "\n",
        "def create_memory_trip_agent():\n",
        "    \"\"\"Creates a trip planner that uses a long-term memory bank.\"\"\"\n",
        "    return Agent(\n",
        "        name=\"memory_trip_agent\", model=\"gemini-2.5-flash\",\n",
        "        instruction=\"\"\"You are a helpful trip planning assistant with a perfect memory.\n",
        "        Your Core Instructions:\n",
        "        1. At the start of every conversation, use your memory to recall any user preferences.\n",
        "        2. When the user tells you a new preference (e.g., \"I'm a vegetarian\"), save this fact to your memory.\n",
        "        3. When planning, always incorporate the user's remembered preferences.\n",
        "        \"\"\",\n",
        "        tools=[adk.tools.preload_memory_tool.PreloadMemoryTool()]\n",
        "    )\n",
        "\n",
        "memory_agent = create_memory_trip_agent()\n",
        "print(\"🧠 Agent with long-term memory is defined.\")"
      ],
      "outputs": [],
      "execution_count": null,
      "id": "sJMiVRD6QeWp"
    },
    {
      "cell_type": "code",
      "source": [
        "# --- 9. Configure and Run the Local Agent with Memory Bank ---\n",
        "async def run_memory_test():\n",
        "    # We will attach our new memory bank to the Agent Engine we already deployed.\n",
        "    agent_engine_id = deployed_agent_no_trace.name\n",
        "    app_name = memory_agent.name # Use the agent's name as the app identifier\n",
        "\n",
        "    print(f\"✅ Attaching Memory & Session services to Agent Engine: {agent_engine_id}\")\n",
        "\n",
        "    # Configure services to point to our existing deployment\n",
        "    memory_bank_service = VertexAiMemoryBankService(\n",
        "        project=PROJECT_ID, location=LOCATION, agent_engine_id=agent_engine_id\n",
        "    )\n",
        "    session_service = VertexAiSessionService(\n",
        "        project=PROJECT_ID, location=LOCATION, agent_engine_id=agent_engine_id\n",
        "    )\n",
        "\n",
        "    # Initialize the local runner once\n",
        "    runner = Runner(\n",
        "        agent=memory_agent,\n",
        "        app_name=app_name,\n",
        "        session_service=session_service,\n",
        "        memory_service=memory_bank_service,\n",
        "    )\n",
        "\n",
        "    # ---\n",
        "    # Helper function to run a single turn in a chat\n",
        "    async def run_turn(query: str, user_id: str, session_id: str):\n",
        "        print(f\"\\n🗣️ You: {query}\")\n",
        "        print(\"🤖 Assistant: \", end=\"\", flush=True) # Print prefix for streaming\n",
        "\n",
        "        final_response_parts = []\n",
        "        async for event in runner.run_async(\n",
        "            user_id=user_id,\n",
        "            session_id=session_id,\n",
        "            new_message=Content(parts=[Part(text=query)], role=\"user\")\n",
        "        ):\n",
        "            # ⭐️ FIX: Access event data using dot notation for objects.\n",
        "            if event.content and event.content.role == \"model\":\n",
        "                part_text = event.content.parts[0].text\n",
        "                if part_text:\n",
        "                    final_response_parts.append(part_text)\n",
        "                    print(part_text, end=\"\", flush=True) # Print streaming parts on one line\n",
        "\n",
        "        print() # Add a final newline after the response is complete\n",
        "        return \"\".join(final_response_parts)\n",
        "    # ---\n",
        "\n",
        "    # == Step 1: The \"Teach Me\" Conversation ==\n",
        "    user_id_memory = f\"adk-traveler-{uuid4()}\"\n",
        "    print(f\"\\n--- Starting Session 1 for user '{user_id_memory}' ---\")\n",
        "    session_one = await session_service.create_session(user_id=user_id_memory, app_name=app_name)\n",
        "    await run_turn(\"Hi there. When you help me plan trips, please remember that I am a vegetarian.\", user_id_memory, session_one.id)\n",
        "\n",
        "    # ⭐️ IMPORTANT: Explicitly save the completed session to long-term memory\n",
        "    print(\"\\n💾 Saving session 1 to Memory Bank...\")\n",
        "    completed_session = await session_service.get_session(app_name=app_name, user_id=user_id_memory, session_id=session_one.id)\n",
        "    await memory_bank_service.add_session_to_memory(completed_session)\n",
        "    print(\"✅ Session 1 saved.\")\n",
        "\n",
        "    # == Step 2: The \"Recall\" Conversation ==\n",
        "    print(f\"\\n--- Starting a brand new Session 2 for the SAME user ---\")\n",
        "    session_two = await session_service.create_session(user_id=user_id_memory, app_name=app_name)\n",
        "    await run_turn(\"Great. Now, can you plan a weekend dinner trip to Napa Valley?\", user_id_memory, session_two.id)\n",
        "    print(\"-\" * 50)\n",
        "    print(\"🎉 Memory test complete!\")\n",
        "\n",
        "# In a notebook cell, run the test with await\n",
        "await run_memory_test()"
      ],
      "metadata": {
        "id": "wGsVbLh4hPZh"
      },
      "id": "wGsVbLh4hPZh",
      "execution_count": null,
      "outputs": []
    },
    {
      "cell_type": "markdown",
      "source": [
        "### Tracing"
      ],
      "metadata": {
        "id": "0CW2b9O9ZB_q"
      },
      "id": "0CW2b9O9ZB_q"
    },
    {
      "cell_type": "code",
      "source": [
        "# This time, we wrap the agent in AdkApp to enable tracing\n",
        "\n",
        "from vertexai.agent_engines import AdkApp\n",
        "\n",
        "app_with_tracing = AdkApp(agent=trip_coordinator_agent, enable_tracing=True)\n",
        "deployment_name = f\"trip-planner-tracing-{uuid4().hex[:6]}\"\n",
        "\n",
        "print(f\"🚀 Deploying '{deployment_name}' with tracing enabled...\")\n",
        "deployed_agent = agent_engines.create(\n",
        "    display_name=deployment_name,\n",
        "    agent_engine=app_with_tracing,\n",
        "    requirements=[\"google-cloud-aiplatform[agent_engines]==1.117.0\", \"google-adk==1.15.1\"],\n",
        "    description=\"A trip planning agent with  tracing enabled.\"\n",
        ")\n",
        "print(\"-\" * 50)\n",
        "print(\"✅ Agent with Tracing deployed successfully!\")\n",
        "display(Markdown(f\"**Resource Name:** `{deployed_agent.resource_name}`\"))"
      ],
      "metadata": {
        "id": "lI6XFS4mUnyR"
      },
      "id": "lI6XFS4mUnyR",
      "execution_count": null,
      "outputs": []
    },
    {
      "cell_type": "markdown",
      "metadata": {
        "id": "6_dnDQbrQeWp"
      },
      "source": [
        "---\n",
        "\n",
        "## 5. Comparing Agents in Cloud Trace\n",
        "Now, let's see the difference tracing makes.\n",
        "\n",
        "1.  Navigate to the **[Cloud Trace](https://console.cloud.google.com/traces)** page in your Google Cloud Console.\n",
        "2.  In the filter or search bar, look for traces related to your Reasoning Engines. You can often filter by the service name, which will contain your deployment name.\n",
        "\n",
        "You will find detailed, step-by-step execution graphs for **`trip-planner-trace-...`** (Agent #2). However, you will find **no detailed traces** for **`trip-planner-basic-...`** (Agent #1), because we deployed it without enabling tracing. This demonstrates the critical importance of the `AdkApp` wrapper for observability and debugging."
      ],
      "id": "6_dnDQbrQeWp"
    },
    {
      "cell_type": "markdown",
      "metadata": {
        "id": "4PQRM9NtQeWp"
      },
      "source": [
        "### Query The Remote Agent\n",
        "We'll have one conversation to teach the agent a preference, and then start a completely **new session** to see if it remembers."
      ],
      "id": "4PQRM9NtQeWp"
    },
    {
      "cell_type": "code",
      "source": [
        "# deployed_agent = agent_engines.get(\"projects/418653888075/locations/us-central1/reasoningEngines/2984290062063108096\")\n"
      ],
      "metadata": {
        "id": "saze5cPYa9ug"
      },
      "id": "saze5cPYa9ug",
      "execution_count": null,
      "outputs": []
    },
    {
      "cell_type": "code",
      "source": [
        "# agent_client = agent_engines.get(deployed_agent.resource_name)\n",
        "user_id_memory = f\"trace-test-user-{uuid4().hex[:6]}\"\n",
        "\n",
        "# --- Conversation 1: Teach the Agent a Fact ---\n",
        "print(f\"--- 📚 Starting Conversation 1 for user '{user_id_memory}' ---\")\n",
        "query1 = \"Find a famous historical site there and a good place for pasta in Rome.\"\n",
        "print(f\"💬 User: {query1}\")\n",
        "session1 = await deployed_agent.async_create_session(user_id=user_id_memory)\n",
        "await stream_and_print_response(deployed_agent,query1, user_id_memory, session1)\n",
        "\n",
        "\n",
        "print(\"\\n\" + \"-\" * 50)\n",
        "print(\"✅ Trace test complete.\")"
      ],
      "metadata": {
        "id": "vDw3NF8jb1nE"
      },
      "id": "vDw3NF8jb1nE",
      "execution_count": null,
      "outputs": []
    },
    {
      "cell_type": "markdown",
      "metadata": {
        "id": "ame1hQ00QeWp"
      },
      "source": [
        "---\n",
        "\n",
        "## 6. Cleanup\n",
        "\n",
        "Finally, let's clean up the resources we've created to avoid incurring unnecessary costs. This will delete the deployed Agent Engines and the Vertex AI Experiment."
      ],
      "id": "ame1hQ00QeWp"
    },
    {
      "cell_type": "code",
      "metadata": {
        "id": "GEFMNLZ4QeWq"
      },
      "source": [
        "# --- Delete the deployed Agent Engines ---\n",
        "all_deployments = [deployed_agent_no_trace, deployed_agent]\n",
        "for deployment in all_deployments:\n",
        "    try:\n",
        "        deployment.delete()\n",
        "        print(f\"🗑️ Deleted Agent Engine: {deployment.display_name}\")\n",
        "    except Exception as e:\n",
        "        print(f\"Could not delete {deployment.display_name}. It may have been deleted already. Error: {e}\")"
      ],
      "outputs": [],
      "execution_count": null,
      "id": "GEFMNLZ4QeWq"
    }
  ]
}